{
  "cells": [
    {
      "cell_type": "code",
      "execution_count": null,
      "id": "f6b91e27",
      "metadata": {
        "_cell_guid": "b1076dfc-b9ad-4769-8c92-a6c4dae69d19",
        "_uuid": "8f2839f25d086af736a60e9eeb907d3b93b6e0e5",
        "execution": {
          "iopub.execute_input": "2022-04-04T17:35:55.892247Z",
          "iopub.status.busy": "2022-04-04T17:35:55.890734Z",
          "iopub.status.idle": "2022-04-04T17:35:55.902040Z",
          "shell.execute_reply": "2022-04-04T17:35:55.902429Z",
          "shell.execute_reply.started": "2022-04-04T17:21:45.127183Z"
        },
        "papermill": {
          "duration": 0.045374,
          "end_time": "2022-04-04T17:35:55.902633",
          "exception": false,
          "start_time": "2022-04-04T17:35:55.857259",
          "status": "completed"
        },
        "tags": [],
        "id": "f6b91e27",
        "outputId": "05ded013-75c3-421e-f3c5-538e876f3e1d"
      },
      "outputs": [
        {
          "name": "stdout",
          "output_type": "stream",
          "text": [
            "/kaggle/input/ml-assignment-cl-ii-lab-task2-part1/euroSAT_train_val_test.pkl\n"
          ]
        }
      ],
      "source": [
        "# This Python 3 environment comes with many helpful analytics libraries installed\n",
        "# It is defined by the kaggle/python Docker image: https://github.com/kaggle/docker-python\n",
        "# For example, here's several helpful packages to load\n",
        "\n",
        "import numpy as np # linear algebra\n",
        "import pandas as pd # data processing, CSV file I/O (e.g. pd.read_csv)\n",
        "\n",
        "# Input data files are available in the read-only \"../input/\" directory\n",
        "# For example, running this (by clicking run or pressing Shift+Enter) will list all files under the input directory\n",
        "\n",
        "import os\n",
        "for dirname, _, filenames in os.walk('/kaggle/input'):\n",
        "    for filename in filenames:\n",
        "        print(os.path.join(dirname, filename))\n",
        "\n",
        "# You can write up to 20GB to the current directory (/kaggle/working/) that gets preserved as output when you create a version using \"Save & Run All\" \n",
        "# You can also write temporary files to /kaggle/temp/, but they won't be saved outside of the current session"
      ]
    },
    {
      "cell_type": "code",
      "source": [
        "import pickle\n",
        "import numpy as np\n",
        "\n",
        "# for reading and displaying images\n",
        "from PIL import Image\n",
        "from skimage.io import imread\n",
        "import matplotlib.pyplot as plt\n",
        "%matplotlib inline\n",
        "\n",
        "import torch\n",
        "from torch import Tensor\n",
        "import torch.utils.data as data\n",
        "import torch.nn as nn\n",
        "import torch.nn.functional as F\n",
        "import torch.optim as optim\n",
        "from torchvision import transforms\n",
        "from torch.nn.modules.activation import ReLU"
      ],
      "metadata": {
        "id": "8fWyDXdvZKm-"
      },
      "id": "8fWyDXdvZKm-",
      "execution_count": 1,
      "outputs": []
    },
    {
      "cell_type": "code",
      "execution_count": 2,
      "id": "c1d7aa6b",
      "metadata": {
        "execution": {
          "iopub.execute_input": "2022-04-04T17:35:55.966070Z",
          "iopub.status.busy": "2022-04-04T17:35:55.965471Z",
          "iopub.status.idle": "2022-04-04T17:36:03.506970Z",
          "shell.execute_reply": "2022-04-04T17:36:03.507423Z",
          "shell.execute_reply.started": "2022-04-04T17:12:23.207442Z"
        },
        "papermill": {
          "duration": 7.575041,
          "end_time": "2022-04-04T17:36:03.507569",
          "exception": false,
          "start_time": "2022-04-04T17:35:55.932528",
          "status": "completed"
        },
        "tags": [],
        "colab": {
          "base_uri": "https://localhost:8080/"
        },
        "id": "c1d7aa6b",
        "outputId": "753e7cfd-ccfc-4340-c256-d13762390501"
      },
      "outputs": [
        {
          "output_type": "execute_result",
          "data": {
            "text/plain": [
              "('./logs_resnet/resnet_ckp.pt', <http.client.HTTPMessage at 0x7f680442f090>)"
            ]
          },
          "metadata": {},
          "execution_count": 2
        }
      ],
      "source": [
        "# create the directories for storing weights corresponding to the minimum validation loss\n",
        "%mkdir logs_resnet # for task2a (resne18(pretrained=true))\n",
        "%mkdir logs_resnet_task2b # for task2b (resnet18(pretrained = false))\n",
        "\n",
        "from urllib import request\n",
        "#download the model from google drive\n",
        "remote_url = 'https://docs.google.com/uc?export=download&id=1sZo4bBMx11fg1tXQC17jyYBPKXU3wGq9'\n",
        "local_file = './logs_resnet/resnet_ckp.pt'\n",
        "request.urlretrieve(remote_url, local_file)   \n",
        "# if the model is trained again, the downloaded file will be overwritten"
      ]
    },
    {
      "cell_type": "code",
      "execution_count": null,
      "id": "e057b078",
      "metadata": {
        "execution": {
          "iopub.execute_input": "2022-04-04T17:36:05.584986Z",
          "iopub.status.busy": "2022-04-04T17:36:05.584297Z",
          "iopub.status.idle": "2022-04-04T17:36:05.590089Z",
          "shell.execute_reply": "2022-04-04T17:36:05.590497Z",
          "shell.execute_reply.started": "2022-04-04T17:21:57.597341Z"
        },
        "papermill": {
          "duration": 0.037549,
          "end_time": "2022-04-04T17:36:05.590618",
          "exception": false,
          "start_time": "2022-04-04T17:36:05.553069",
          "status": "completed"
        },
        "tags": [],
        "id": "e057b078",
        "outputId": "b000d6fb-98e0-4e4c-fb1f-d7d918155da5"
      },
      "outputs": [
        {
          "data": {
            "text/plain": [
              "<torch._C.Generator at 0x7fb09c052fb0>"
            ]
          },
          "execution_count": 4,
          "metadata": {},
          "output_type": "execute_result"
        }
      ],
      "source": [
        "# setting the random seed for pytorch\n",
        "torch.manual_seed(1) # ID - 21CS60R01 "
      ]
    },
    {
      "cell_type": "code",
      "execution_count": null,
      "id": "170eccd6",
      "metadata": {
        "execution": {
          "iopub.execute_input": "2022-04-04T17:36:05.653160Z",
          "iopub.status.busy": "2022-04-04T17:36:05.651664Z",
          "iopub.status.idle": "2022-04-04T17:36:15.873715Z",
          "shell.execute_reply": "2022-04-04T17:36:15.874584Z",
          "shell.execute_reply.started": "2022-04-04T17:21:59.966549Z"
        },
        "papermill": {
          "duration": 10.256011,
          "end_time": "2022-04-04T17:36:15.874783",
          "exception": false,
          "start_time": "2022-04-04T17:36:05.618772",
          "status": "completed"
        },
        "tags": [],
        "id": "170eccd6",
        "outputId": "9f41edf1-363d-40e6-93b7-27c1ece5a190"
      },
      "outputs": [
        {
          "name": "stdout",
          "output_type": "stream",
          "text": [
            "18792 2808 5400\n",
            "(3, 64, 64) 7\n"
          ]
        }
      ],
      "source": [
        "# opening the pickled file\n",
        "with open(\"/kaggle/input/ml-assignment-cl-ii-lab-task2-part1/euroSAT_train_val_test.pkl\", 'rb') as f:\n",
        "  train_set, val_set, test_set = pickle.load(f)\n",
        "  print (len(train_set), len(val_set), len(test_set)) # 18792 2808 5400\n",
        "  print (train_set[0][0].shape, train_set[0][1]) # (3, 64, 64) 7"
      ]
    },
    {
      "cell_type": "code",
      "execution_count": null,
      "id": "9ff2f3c2",
      "metadata": {
        "execution": {
          "iopub.execute_input": "2022-04-04T17:36:15.938120Z",
          "iopub.status.busy": "2022-04-04T17:36:15.937500Z",
          "iopub.status.idle": "2022-04-04T17:36:15.941158Z",
          "shell.execute_reply": "2022-04-04T17:36:15.940695Z",
          "shell.execute_reply.started": "2022-04-04T17:22:03.935265Z"
        },
        "papermill": {
          "duration": 0.036954,
          "end_time": "2022-04-04T17:36:15.941272",
          "exception": false,
          "start_time": "2022-04-04T17:36:15.904318",
          "status": "completed"
        },
        "tags": [],
        "id": "9ff2f3c2"
      },
      "outputs": [],
      "source": [
        "# creating data loaders\n",
        "batch = 100\n",
        "train_loader = data.DataLoader(train_set, batch_size=batch, shuffle=True)\n",
        "val_loader = data.DataLoader(val_set, batch_size=batch, shuffle=True)\n",
        "test_loader = data.DataLoader(test_set, batch_size=batch, shuffle=False)"
      ]
    },
    {
      "cell_type": "markdown",
      "id": "6d3a13b7",
      "metadata": {
        "papermill": {
          "duration": 0.028187,
          "end_time": "2022-04-04T17:36:15.998533",
          "exception": false,
          "start_time": "2022-04-04T17:36:15.970346",
          "status": "completed"
        },
        "tags": [],
        "id": "6d3a13b7"
      },
      "source": [
        "# TASK 2(a): Resnet18(Pretrained = True)"
      ]
    },
    {
      "cell_type": "code",
      "execution_count": null,
      "id": "c65765fa",
      "metadata": {
        "execution": {
          "iopub.execute_input": "2022-04-04T17:36:16.062025Z",
          "iopub.status.busy": "2022-04-04T17:36:16.061448Z",
          "iopub.status.idle": "2022-04-04T17:36:21.868488Z",
          "shell.execute_reply": "2022-04-04T17:36:21.868960Z",
          "shell.execute_reply.started": "2022-04-04T17:22:06.868362Z"
        },
        "papermill": {
          "duration": 5.84167,
          "end_time": "2022-04-04T17:36:21.869110",
          "exception": false,
          "start_time": "2022-04-04T17:36:16.027440",
          "status": "completed"
        },
        "tags": [],
        "colab": {
          "referenced_widgets": [
            "7a2e91345c44445791ad5ae2aea20997"
          ]
        },
        "id": "c65765fa",
        "outputId": "05c424f3-7a1b-497a-fb09-2b6d126bd4a8"
      },
      "outputs": [
        {
          "name": "stderr",
          "output_type": "stream",
          "text": [
            "Downloading: \"https://download.pytorch.org/models/resnet18-f37072fd.pth\" to /root/.cache/torch/hub/checkpoints/resnet18-f37072fd.pth\n"
          ]
        },
        {
          "data": {
            "application/vnd.jupyter.widget-view+json": {
              "model_id": "7a2e91345c44445791ad5ae2aea20997",
              "version_major": 2,
              "version_minor": 0
            },
            "text/plain": [
              "  0%|          | 0.00/44.7M [00:00<?, ?B/s]"
            ]
          },
          "metadata": {},
          "output_type": "display_data"
        },
        {
          "data": {
            "text/plain": [
              "ResNet(\n",
              "  (conv1): Conv2d(3, 64, kernel_size=(7, 7), stride=(2, 2), padding=(3, 3), bias=False)\n",
              "  (bn1): BatchNorm2d(64, eps=1e-05, momentum=0.1, affine=True, track_running_stats=True)\n",
              "  (relu): ReLU(inplace=True)\n",
              "  (maxpool): MaxPool2d(kernel_size=3, stride=2, padding=1, dilation=1, ceil_mode=False)\n",
              "  (layer1): Sequential(\n",
              "    (0): BasicBlock(\n",
              "      (conv1): Conv2d(64, 64, kernel_size=(3, 3), stride=(1, 1), padding=(1, 1), bias=False)\n",
              "      (bn1): BatchNorm2d(64, eps=1e-05, momentum=0.1, affine=True, track_running_stats=True)\n",
              "      (relu): ReLU(inplace=True)\n",
              "      (conv2): Conv2d(64, 64, kernel_size=(3, 3), stride=(1, 1), padding=(1, 1), bias=False)\n",
              "      (bn2): BatchNorm2d(64, eps=1e-05, momentum=0.1, affine=True, track_running_stats=True)\n",
              "    )\n",
              "    (1): BasicBlock(\n",
              "      (conv1): Conv2d(64, 64, kernel_size=(3, 3), stride=(1, 1), padding=(1, 1), bias=False)\n",
              "      (bn1): BatchNorm2d(64, eps=1e-05, momentum=0.1, affine=True, track_running_stats=True)\n",
              "      (relu): ReLU(inplace=True)\n",
              "      (conv2): Conv2d(64, 64, kernel_size=(3, 3), stride=(1, 1), padding=(1, 1), bias=False)\n",
              "      (bn2): BatchNorm2d(64, eps=1e-05, momentum=0.1, affine=True, track_running_stats=True)\n",
              "    )\n",
              "  )\n",
              "  (layer2): Sequential(\n",
              "    (0): BasicBlock(\n",
              "      (conv1): Conv2d(64, 128, kernel_size=(3, 3), stride=(2, 2), padding=(1, 1), bias=False)\n",
              "      (bn1): BatchNorm2d(128, eps=1e-05, momentum=0.1, affine=True, track_running_stats=True)\n",
              "      (relu): ReLU(inplace=True)\n",
              "      (conv2): Conv2d(128, 128, kernel_size=(3, 3), stride=(1, 1), padding=(1, 1), bias=False)\n",
              "      (bn2): BatchNorm2d(128, eps=1e-05, momentum=0.1, affine=True, track_running_stats=True)\n",
              "      (downsample): Sequential(\n",
              "        (0): Conv2d(64, 128, kernel_size=(1, 1), stride=(2, 2), bias=False)\n",
              "        (1): BatchNorm2d(128, eps=1e-05, momentum=0.1, affine=True, track_running_stats=True)\n",
              "      )\n",
              "    )\n",
              "    (1): BasicBlock(\n",
              "      (conv1): Conv2d(128, 128, kernel_size=(3, 3), stride=(1, 1), padding=(1, 1), bias=False)\n",
              "      (bn1): BatchNorm2d(128, eps=1e-05, momentum=0.1, affine=True, track_running_stats=True)\n",
              "      (relu): ReLU(inplace=True)\n",
              "      (conv2): Conv2d(128, 128, kernel_size=(3, 3), stride=(1, 1), padding=(1, 1), bias=False)\n",
              "      (bn2): BatchNorm2d(128, eps=1e-05, momentum=0.1, affine=True, track_running_stats=True)\n",
              "    )\n",
              "  )\n",
              "  (layer3): Sequential(\n",
              "    (0): BasicBlock(\n",
              "      (conv1): Conv2d(128, 256, kernel_size=(3, 3), stride=(2, 2), padding=(1, 1), bias=False)\n",
              "      (bn1): BatchNorm2d(256, eps=1e-05, momentum=0.1, affine=True, track_running_stats=True)\n",
              "      (relu): ReLU(inplace=True)\n",
              "      (conv2): Conv2d(256, 256, kernel_size=(3, 3), stride=(1, 1), padding=(1, 1), bias=False)\n",
              "      (bn2): BatchNorm2d(256, eps=1e-05, momentum=0.1, affine=True, track_running_stats=True)\n",
              "      (downsample): Sequential(\n",
              "        (0): Conv2d(128, 256, kernel_size=(1, 1), stride=(2, 2), bias=False)\n",
              "        (1): BatchNorm2d(256, eps=1e-05, momentum=0.1, affine=True, track_running_stats=True)\n",
              "      )\n",
              "    )\n",
              "    (1): BasicBlock(\n",
              "      (conv1): Conv2d(256, 256, kernel_size=(3, 3), stride=(1, 1), padding=(1, 1), bias=False)\n",
              "      (bn1): BatchNorm2d(256, eps=1e-05, momentum=0.1, affine=True, track_running_stats=True)\n",
              "      (relu): ReLU(inplace=True)\n",
              "      (conv2): Conv2d(256, 256, kernel_size=(3, 3), stride=(1, 1), padding=(1, 1), bias=False)\n",
              "      (bn2): BatchNorm2d(256, eps=1e-05, momentum=0.1, affine=True, track_running_stats=True)\n",
              "    )\n",
              "  )\n",
              "  (layer4): Sequential(\n",
              "    (0): BasicBlock(\n",
              "      (conv1): Conv2d(256, 512, kernel_size=(3, 3), stride=(2, 2), padding=(1, 1), bias=False)\n",
              "      (bn1): BatchNorm2d(512, eps=1e-05, momentum=0.1, affine=True, track_running_stats=True)\n",
              "      (relu): ReLU(inplace=True)\n",
              "      (conv2): Conv2d(512, 512, kernel_size=(3, 3), stride=(1, 1), padding=(1, 1), bias=False)\n",
              "      (bn2): BatchNorm2d(512, eps=1e-05, momentum=0.1, affine=True, track_running_stats=True)\n",
              "      (downsample): Sequential(\n",
              "        (0): Conv2d(256, 512, kernel_size=(1, 1), stride=(2, 2), bias=False)\n",
              "        (1): BatchNorm2d(512, eps=1e-05, momentum=0.1, affine=True, track_running_stats=True)\n",
              "      )\n",
              "    )\n",
              "    (1): BasicBlock(\n",
              "      (conv1): Conv2d(512, 512, kernel_size=(3, 3), stride=(1, 1), padding=(1, 1), bias=False)\n",
              "      (bn1): BatchNorm2d(512, eps=1e-05, momentum=0.1, affine=True, track_running_stats=True)\n",
              "      (relu): ReLU(inplace=True)\n",
              "      (conv2): Conv2d(512, 512, kernel_size=(3, 3), stride=(1, 1), padding=(1, 1), bias=False)\n",
              "      (bn2): BatchNorm2d(512, eps=1e-05, momentum=0.1, affine=True, track_running_stats=True)\n",
              "    )\n",
              "  )\n",
              "  (avgpool): AdaptiveAvgPool2d(output_size=(1, 1))\n",
              "  (fc): Linear(in_features=512, out_features=10, bias=True)\n",
              ")"
            ]
          },
          "execution_count": 7,
          "metadata": {},
          "output_type": "execute_result"
        }
      ],
      "source": [
        "# import the resnet18 model from torchvision\n",
        "import torchvision.models as models\n",
        "\n",
        "#set the pretrained to be True\n",
        "model = models.resnet18(pretrained=True)\n",
        "\n",
        "# Add an output dense layer with 10 nodes\n",
        "model.fc = nn.Linear(512, 10)\n",
        "model.cuda()"
      ]
    },
    {
      "cell_type": "code",
      "execution_count": null,
      "id": "468fe3db",
      "metadata": {
        "execution": {
          "iopub.execute_input": "2022-04-04T17:36:21.940624Z",
          "iopub.status.busy": "2022-04-04T17:36:21.936543Z",
          "iopub.status.idle": "2022-04-04T17:36:21.943208Z",
          "shell.execute_reply": "2022-04-04T17:36:21.942722Z",
          "shell.execute_reply.started": "2022-04-04T17:22:10.549575Z"
        },
        "papermill": {
          "duration": 0.044043,
          "end_time": "2022-04-04T17:36:21.943333",
          "exception": false,
          "start_time": "2022-04-04T17:36:21.899290",
          "status": "completed"
        },
        "tags": [],
        "id": "468fe3db"
      },
      "outputs": [],
      "source": [
        "# helper function to train the model \n",
        "\n",
        "def train(model,train_loader,val_loader,loss_criteria,optimizer, epoch):\n",
        "  \n",
        "  train_loss = 0\n",
        "  train_total = 0\n",
        "  train_correct = 0\n",
        "    \n",
        "  # train the model\n",
        "  model.train()\n",
        "    \n",
        "  # Process the images in batches\n",
        "  for batch_idx, (data, target) in enumerate(train_loader):\n",
        "      \n",
        "    # Load the input features and labels from the dataset\n",
        "    data, target = data.cuda(), target.cuda()\n",
        "    \n",
        "    # Reset the optimizer\n",
        "    optimizer.zero_grad()\n",
        "    \n",
        "    # Forward pass: Pass image data from training dataset, make predictions about class image\n",
        "    output = model(data)\n",
        "    \n",
        "    # Get the loss\n",
        "    loss = loss_criteria(output, target)\n",
        "\n",
        "    # Keep a running total\n",
        "    train_loss += loss.item()\n",
        "\n",
        "    train_total += target.size(0)\n",
        "    train_correct += torch.sum(torch.argmax(output, dim=1) == target)\n",
        "\n",
        "  \n",
        "    # Backpropagate\n",
        "    loss.backward()\n",
        "\n",
        "    # Update the neural network weights\n",
        "    optimizer.step()\n",
        "         \n",
        "  # find the training accuracy and print it\n",
        "  train_acc = round((train_correct.item() / len(train_loader.dataset)) * 100, 4)\n",
        "  print('Epoch [{}], train_loss: {}, train_accuracy: {}'.format(epoch, train_loss/train_total, train_acc), end='')\n",
        "  print('\\n')\n",
        "\n",
        "  val_loss = 0\n",
        "  val_correct = 0\n",
        "  val_total = 0\n",
        "\n",
        "\n",
        "  # evaluate the model    \n",
        "  model.eval()\n",
        "\n",
        "  # Process the images in batches\n",
        "  for batch_idx, (data, target) in enumerate(val_loader):\n",
        "\n",
        "    # Load the input features and labels from the dataset\n",
        "    data, target = data.cuda(), target.cuda()\n",
        "\n",
        "    # Forward pass: Pass image data from training dataset, make predictions about class image\n",
        "    output = model(data)\n",
        "\n",
        "    # Get the loss\n",
        "    loss = loss_criteria(output, target)\n",
        "\n",
        "    # Keep a running total\n",
        "    val_loss += loss.item()\n",
        "\n",
        "\n",
        "    # scores, predictions = torch.max(output.data, 1)\n",
        "    val_total += target.size(0)\n",
        "    val_correct += torch.sum(torch.argmax(output, dim=1) == target)\n",
        "    # val_correct += int(sum(predictions == target))\n",
        "\n",
        "  val_acc = round((val_correct.item() / len(val_loader.dataset)) * 100, 4)\n",
        "  print('Epoch [{}], val_loss: {}, val_accuracy: {}'.format(epoch, val_loss/val_total, val_acc), end='')\n",
        "  print('\\n')\n",
        "  return train_loss,train_acc,val_loss,val_acc"
      ]
    },
    {
      "cell_type": "code",
      "execution_count": null,
      "id": "4bb374b9",
      "metadata": {
        "execution": {
          "iopub.execute_input": "2022-04-04T17:36:22.008761Z",
          "iopub.status.busy": "2022-04-04T17:36:22.007234Z",
          "iopub.status.idle": "2022-04-04T17:36:22.009397Z",
          "shell.execute_reply": "2022-04-04T17:36:22.009788Z",
          "shell.execute_reply.started": "2022-04-04T17:22:14.072874Z"
        },
        "papermill": {
          "duration": 0.036644,
          "end_time": "2022-04-04T17:36:22.009936",
          "exception": false,
          "start_time": "2022-04-04T17:36:21.973292",
          "status": "completed"
        },
        "tags": [],
        "id": "4bb374b9"
      },
      "outputs": [],
      "source": [
        "# Use an \"Adam\" optimizer to adjust weights\n",
        "optimizer = optim.Adam(model.parameters(), lr=0.001)\n",
        "\n",
        "# Specify the loss criteria\n",
        "loss_criteria = nn.CrossEntropyLoss()\n",
        "\n",
        "# define learning rate scheduler\n",
        "scheduler = optim.lr_scheduler.StepLR(optimizer, step_size=20, gamma=0.1)"
      ]
    },
    {
      "cell_type": "markdown",
      "id": "4114a004",
      "metadata": {
        "papermill": {
          "duration": 0.029446,
          "end_time": "2022-04-04T17:36:22.069806",
          "exception": false,
          "start_time": "2022-04-04T17:36:22.040360",
          "status": "completed"
        },
        "tags": [],
        "id": "4114a004"
      },
      "source": [
        "# If you don't want to train the model again, don't run the below cell"
      ]
    },
    {
      "cell_type": "code",
      "execution_count": null,
      "id": "2bda494b",
      "metadata": {
        "execution": {
          "iopub.execute_input": "2022-04-04T17:36:22.136924Z",
          "iopub.status.busy": "2022-04-04T17:36:22.136334Z",
          "iopub.status.idle": "2022-04-04T17:41:41.449717Z",
          "shell.execute_reply": "2022-04-04T17:41:41.450133Z",
          "shell.execute_reply.started": "2022-04-04T17:22:16.837846Z"
        },
        "papermill": {
          "duration": 319.350901,
          "end_time": "2022-04-04T17:41:41.450292",
          "exception": false,
          "start_time": "2022-04-04T17:36:22.099391",
          "status": "completed"
        },
        "tags": [],
        "id": "2bda494b",
        "outputId": "94b3a13a-47bb-429c-aa8f-18adbf9e68ba"
      },
      "outputs": [
        {
          "name": "stdout",
          "output_type": "stream",
          "text": [
            "Epoch [1], train_loss: 0.0034558147135701723, train_accuracy: 89.1337\n",
            "\n",
            "Epoch [1], val_loss: 0.00399757186189676, val_accuracy: 87.3932\n",
            "\n",
            "Epoch [2], train_loss: 0.0017573220321092644, train_accuracy: 94.2209\n",
            "\n",
            "Epoch [2], val_loss: 0.004141010002410862, val_accuracy: 87.7137\n",
            "\n",
            "Epoch [3], train_loss: 0.0014358350415164965, train_accuracy: 95.3704\n",
            "\n",
            "Epoch [3], val_loss: 0.0033929740527161847, val_accuracy: 88.9601\n",
            "\n",
            "Epoch [4], train_loss: 0.0009885604665093297, train_accuracy: 96.871\n",
            "\n",
            "Epoch [4], val_loss: 0.002214725909388473, val_accuracy: 93.8034\n",
            "\n",
            "Epoch [5], train_loss: 0.0008826808425193045, train_accuracy: 97.2275\n",
            "\n",
            "Epoch [5], val_loss: 0.0038658506913572294, val_accuracy: 89.2094\n",
            "\n",
            "Epoch [6], train_loss: 0.0007401312545638511, train_accuracy: 97.5894\n",
            "\n",
            "Epoch [6], val_loss: 0.0035436493357871674, val_accuracy: 90.3134\n",
            "\n",
            "Epoch [7], train_loss: 0.0006607143901623136, train_accuracy: 97.9246\n",
            "\n",
            "Epoch [7], val_loss: 0.0026363891355714567, val_accuracy: 92.7707\n",
            "\n",
            "Epoch [8], train_loss: 0.0005596524073798629, train_accuracy: 98.1801\n",
            "\n",
            "Epoch [8], val_loss: 0.00217933634805501, val_accuracy: 94.0883\n",
            "\n",
            "Epoch [9], train_loss: 0.0005868880686837039, train_accuracy: 98.1375\n",
            "\n",
            "Epoch [9], val_loss: 0.003568966120768052, val_accuracy: 90.1353\n",
            "\n",
            "Epoch [10], train_loss: 0.0004987939602340361, train_accuracy: 98.4142\n",
            "\n",
            "Epoch [10], val_loss: 0.0025287056368300718, val_accuracy: 92.5926\n",
            "\n",
            "Epoch [11], train_loss: 0.00044932849428429327, train_accuracy: 98.526\n",
            "\n",
            "Epoch [11], val_loss: 0.0023377885898718466, val_accuracy: 94.0171\n",
            "\n",
            "Epoch [12], train_loss: 0.0004393645842577378, train_accuracy: 98.6111\n",
            "\n",
            "Epoch [12], val_loss: 0.003228819907836595, val_accuracy: 92.4501\n",
            "\n",
            "Epoch [13], train_loss: 0.0004820524131670664, train_accuracy: 98.5632\n",
            "\n",
            "Epoch [13], val_loss: 0.003101830086567999, val_accuracy: 92.094\n",
            "\n",
            "Epoch [14], train_loss: 0.0003616556964557003, train_accuracy: 98.8612\n",
            "\n",
            "Epoch [14], val_loss: 0.002522836120910624, val_accuracy: 93.5185\n",
            "\n",
            "Epoch [15], train_loss: 0.00036304207882302623, train_accuracy: 98.824\n",
            "\n",
            "Epoch [15], val_loss: 0.013530790598856078, val_accuracy: 75.8903\n",
            "\n",
            "Epoch [16], train_loss: 0.00028617941564320287, train_accuracy: 99.1113\n",
            "\n",
            "Epoch [16], val_loss: 0.0022378479456595353, val_accuracy: 94.4444\n",
            "\n",
            "Epoch [17], train_loss: 0.00030519623413256813, train_accuracy: 99.0528\n",
            "\n",
            "Epoch [17], val_loss: 0.0035441701401269163, val_accuracy: 91.6667\n",
            "\n",
            "Epoch [18], train_loss: 0.0004638427206593228, train_accuracy: 98.7016\n",
            "\n",
            "Epoch [18], val_loss: 0.002988597318600396, val_accuracy: 93.1624\n",
            "\n",
            "Epoch [19], train_loss: 0.0003417459552647063, train_accuracy: 98.8985\n",
            "\n",
            "Epoch [19], val_loss: 0.0020512491070137735, val_accuracy: 95.2635\n",
            "\n",
            "Epoch [20], train_loss: 0.0002494829120694788, train_accuracy: 99.271\n",
            "\n",
            "Epoch [20], val_loss: 0.0019136003631185687, val_accuracy: 95.3348\n",
            "\n",
            "Epoch [21], train_loss: 8.22243736798894e-05, train_accuracy: 99.7978\n",
            "\n",
            "Epoch [21], val_loss: 0.001444895704014179, val_accuracy: 96.6168\n",
            "\n",
            "Epoch [22], train_loss: 4.0099496928552096e-05, train_accuracy: 99.9042\n",
            "\n",
            "Epoch [22], val_loss: 0.0015065069855960283, val_accuracy: 96.6524\n",
            "\n",
            "Epoch [23], train_loss: 2.475730843314394e-05, train_accuracy: 99.9574\n",
            "\n",
            "Epoch [23], val_loss: 0.0014333773283798652, val_accuracy: 96.6524\n",
            "\n",
            "Epoch [24], train_loss: 2.5505327145888213e-05, train_accuracy: 99.9202\n",
            "\n",
            "Epoch [24], val_loss: 0.0014512517839070525, val_accuracy: 96.8305\n",
            "\n",
            "Epoch [25], train_loss: 1.318155535253967e-05, train_accuracy: 99.984\n",
            "\n",
            "Epoch [25], val_loss: 0.0014246626198391279, val_accuracy: 96.8305\n",
            "\n",
            "Epoch [26], train_loss: 1.1339588448906907e-05, train_accuracy: 99.9787\n",
            "\n",
            "Epoch [26], val_loss: 0.0015046663324950937, val_accuracy: 96.7236\n",
            "\n",
            "Epoch [27], train_loss: 8.68367905109e-06, train_accuracy: 99.9947\n",
            "\n",
            "Epoch [27], val_loss: 0.0015199926265242092, val_accuracy: 96.8661\n",
            "\n",
            "Epoch [28], train_loss: 1.0140981920963534e-05, train_accuracy: 99.9894\n",
            "\n",
            "Epoch [28], val_loss: 0.001395619194092298, val_accuracy: 96.7236\n",
            "\n",
            "Epoch [29], train_loss: 2.9089302929050156e-05, train_accuracy: 99.9468\n",
            "\n",
            "Epoch [29], val_loss: 0.0016777464978833367, val_accuracy: 96.6524\n",
            "\n",
            "Epoch [30], train_loss: 6.937966311884642e-06, train_accuracy: 99.9947\n",
            "\n",
            "Epoch [30], val_loss: 0.0014607480165757657, val_accuracy: 96.8661\n",
            "\n",
            "Epoch [31], train_loss: 6.68954424876266e-06, train_accuracy: 99.9947\n",
            "\n",
            "Epoch [31], val_loss: 0.0015498511343955612, val_accuracy: 96.7236\n",
            "\n",
            "Epoch [32], train_loss: 6.6335304451049325e-06, train_accuracy: 99.9894\n",
            "\n",
            "Epoch [32], val_loss: 0.0014742796635964157, val_accuracy: 97.0085\n",
            "\n",
            "Epoch [33], train_loss: 7.60167271070964e-06, train_accuracy: 99.9894\n",
            "\n",
            "Epoch [33], val_loss: 0.001516277918574911, val_accuracy: 96.9373\n",
            "\n",
            "Epoch [34], train_loss: 5.279769451785395e-06, train_accuracy: 99.9894\n",
            "\n",
            "Epoch [34], val_loss: 0.0016693618424512722, val_accuracy: 96.9729\n",
            "\n",
            "Epoch [35], train_loss: 4.681746946848225e-06, train_accuracy: 99.9894\n",
            "\n",
            "Epoch [35], val_loss: 0.001531659495125278, val_accuracy: 97.1154\n",
            "\n",
            "Epoch [36], train_loss: 5.374891617929976e-06, train_accuracy: 99.984\n",
            "\n",
            "Epoch [36], val_loss: 0.0016135467996850608, val_accuracy: 96.9373\n",
            "\n",
            "Epoch [37], train_loss: 6.471922825061028e-06, train_accuracy: 99.9787\n",
            "\n",
            "Epoch [37], val_loss: 0.0015819465613063932, val_accuracy: 96.6524\n",
            "\n",
            "Epoch [38], train_loss: 9.111383778789306e-06, train_accuracy: 99.9734\n",
            "\n",
            "Epoch [38], val_loss: 0.0016109619653310117, val_accuracy: 96.6524\n",
            "\n",
            "Epoch [39], train_loss: 2.8611761175738126e-06, train_accuracy: 99.9947\n",
            "\n",
            "Epoch [39], val_loss: 0.0016638839943566627, val_accuracy: 96.8661\n",
            "\n",
            "Epoch [40], train_loss: 1.5046977468061052e-06, train_accuracy: 100.0\n",
            "\n",
            "Epoch [40], val_loss: 0.001642492313141619, val_accuracy: 96.7236\n",
            "\n",
            "Epoch [41], train_loss: 1.8298695611490274e-05, train_accuracy: 99.984\n",
            "\n",
            "Epoch [41], val_loss: 0.0017233504582079727, val_accuracy: 96.9373\n",
            "\n",
            "Epoch [42], train_loss: 2.9361240200510744e-06, train_accuracy: 99.9947\n",
            "\n",
            "Epoch [42], val_loss: 0.001591439709160823, val_accuracy: 96.8661\n",
            "\n",
            "Epoch [43], train_loss: 2.1042679050761384e-06, train_accuracy: 99.9947\n",
            "\n",
            "Epoch [43], val_loss: 0.0016235290703612798, val_accuracy: 96.9373\n",
            "\n",
            "Epoch [44], train_loss: 1.3991856758782562e-06, train_accuracy: 100.0\n",
            "\n",
            "Epoch [44], val_loss: 0.0016260070920632648, val_accuracy: 96.8661\n",
            "\n",
            "Early stopping at epoch 44\n"
          ]
        }
      ],
      "source": [
        "# Track metrics in these arrays\n",
        "epoch_nums = []\n",
        "training_loss = []\n",
        "validation_loss = []\n",
        "training_acc= []\n",
        "validation_acc= []\n",
        "val_loss_min = np.Inf\n",
        "best_epoch = 0\n",
        "best_model = None\n",
        "patience = 15\n",
        "\n",
        "\n",
        "epochs = 100\n",
        "for epoch in range(1, epochs + 1):\n",
        "    train_loss,train_acc,val_loss,val_acc = train(model,train_loader,val_loader,loss_criteria, optimizer, epoch)\n",
        "    epoch_nums.append(epoch)\n",
        "    training_loss.append(train_loss)\n",
        "    training_acc.append(train_acc)\n",
        "    validation_loss.append(val_loss)\n",
        "    validation_acc.append(val_acc)\n",
        "    \n",
        "    # saving the model with the least validation loss\n",
        "    if validation_loss[-1]<= val_loss_min:\n",
        "        # path to store the log files\n",
        "        checkpoint_path = 'logs_resnet/resnet_ckp.pt'\n",
        "        val_loss_min = validation_loss[-1]\n",
        "        best_epoch = epoch\n",
        "        best_model = model\n",
        "        torch.save(model.state_dict(),checkpoint_path)\n",
        "        \n",
        "    #applying the early stopping principle  \n",
        "    if (epoch - best_epoch) > patience:\n",
        "      print('Early stopping at epoch {}'.format(epoch))\n",
        "      break\n",
        "        \n",
        "    scheduler.step()\n"
      ]
    },
    {
      "cell_type": "code",
      "execution_count": null,
      "id": "4631d86c",
      "metadata": {
        "execution": {
          "iopub.execute_input": "2022-04-04T17:41:41.567190Z",
          "iopub.status.busy": "2022-04-04T17:41:41.566657Z",
          "iopub.status.idle": "2022-04-04T17:41:41.605667Z",
          "shell.execute_reply": "2022-04-04T17:41:41.606067Z",
          "shell.execute_reply.started": "2022-04-04T17:29:26.042005Z"
        },
        "papermill": {
          "duration": 0.099267,
          "end_time": "2022-04-04T17:41:41.606203",
          "exception": false,
          "start_time": "2022-04-04T17:41:41.506936",
          "status": "completed"
        },
        "tags": [],
        "id": "4631d86c",
        "outputId": "1f681939-2b3a-4613-e51d-7c893081840c"
      },
      "outputs": [
        {
          "data": {
            "text/plain": [
              "<All keys matched successfully>"
            ]
          },
          "execution_count": 11,
          "metadata": {},
          "output_type": "execute_result"
        }
      ],
      "source": [
        "ckp_path = \"./logs_resnet/resnet_ckp.pt\"\n",
        "model.load_state_dict(torch.load(ckp_path))\n",
        "# load the saved checkpoint for best model\n",
        "# model, optimizer, start_epoch, valid_loss_min = load_ckp(ckp_path, model, optimizer)"
      ]
    },
    {
      "cell_type": "code",
      "execution_count": null,
      "id": "c64fb220",
      "metadata": {
        "execution": {
          "iopub.execute_input": "2022-04-04T17:41:41.727650Z",
          "iopub.status.busy": "2022-04-04T17:41:41.726926Z",
          "iopub.status.idle": "2022-04-04T17:41:42.884365Z",
          "shell.execute_reply": "2022-04-04T17:41:42.883876Z",
          "shell.execute_reply.started": "2022-04-04T17:29:29.096044Z"
        },
        "papermill": {
          "duration": 1.22137,
          "end_time": "2022-04-04T17:41:42.884487",
          "exception": false,
          "start_time": "2022-04-04T17:41:41.663117",
          "status": "completed"
        },
        "tags": [],
        "id": "c64fb220",
        "outputId": "47536450-8466-484b-f949-86d75d905746"
      },
      "outputs": [
        {
          "name": "stdout",
          "output_type": "stream",
          "text": [
            "Accuracy of the model on the validation set: 96.723647 %\n",
            "Accuracy of the model on the test set: 96.981481 %\n"
          ]
        }
      ],
      "source": [
        "model.eval()\n",
        "correct = 0\n",
        "total = 0\n",
        "\n",
        "# find accuracy in the validation set\n",
        "with torch.no_grad():\n",
        "    for images, labels in val_loader:\n",
        "        images = images.cuda()\n",
        "        labels = labels.cuda()\n",
        "        output = model(images)\n",
        "        # get the predicted values\n",
        "        _, predicted = torch.max(output.data, 1)\n",
        "        total += labels.size(0)\n",
        "        correct += (predicted == labels).sum().item()\n",
        "print('Accuracy of the model on the validation set: %f %%' %\n",
        "      (100 * correct / total))\n",
        "\n",
        "\n",
        "# accuracy on test set\n",
        "correct = 0\n",
        "total = 0\n",
        "predicted_list = []\n",
        "with torch.no_grad():\n",
        "    for images, labels in test_loader:\n",
        "        images = images.cuda()\n",
        "        labels = labels.cuda()\n",
        "        output = model(images)\n",
        "        # get the predicted values\n",
        "        _, predicted = torch.max(output.data, 1)\n",
        "        predicted_list.append(predicted)\n",
        "        total += labels.size(0)\n",
        "        correct += (predicted == labels).sum().item()\n",
        "print('Accuracy of the model on the test set: %f %%' %\n",
        "      (100 * correct / total))"
      ]
    },
    {
      "cell_type": "markdown",
      "id": "5616299e",
      "metadata": {
        "papermill": {
          "duration": 0.056833,
          "end_time": "2022-04-04T17:41:42.998760",
          "exception": false,
          "start_time": "2022-04-04T17:41:42.941927",
          "status": "completed"
        },
        "tags": [],
        "id": "5616299e"
      },
      "source": [
        "# The below cell will throw error, if model is not trained again"
      ]
    },
    {
      "cell_type": "code",
      "execution_count": null,
      "id": "95ed81c2",
      "metadata": {
        "execution": {
          "iopub.execute_input": "2022-04-04T17:41:43.133951Z",
          "iopub.status.busy": "2022-04-04T17:41:43.132925Z",
          "iopub.status.idle": "2022-04-04T17:41:43.447447Z",
          "shell.execute_reply": "2022-04-04T17:41:43.447816Z",
          "shell.execute_reply.started": "2022-04-04T17:29:36.271757Z"
        },
        "papermill": {
          "duration": 0.387803,
          "end_time": "2022-04-04T17:41:43.447971",
          "exception": false,
          "start_time": "2022-04-04T17:41:43.060168",
          "status": "completed"
        },
        "tags": [],
        "id": "95ed81c2",
        "outputId": "97034701-7252-41aa-d44f-358f64d074c4"
      },
      "outputs": [
        {
          "data": {
            "image/png": "[encoded data removed]",
            "text/plain": [
              "<Figure size 720x360 with 2 Axes>"
            ]
          },
          "metadata": {
            "needs_background": "light"
          },
          "output_type": "display_data"
        }
      ],
      "source": [
        "plt.figure(figsize=(10,5))\n",
        "plt.subplot(1,2,1)\n",
        "plt.plot(training_loss, label=\"train loss\")\n",
        "plt.plot(validation_loss, label=\"val loss\")\n",
        "plt.xlabel('Number of epochs')\n",
        "plt.ylabel('Loss')\n",
        "plt.legend()\n",
        "plt.subplot(1,2,2)\n",
        "plt.plot(training_acc, label=\"train acc\")\n",
        "plt.plot(validation_acc, label=\"val acc\")\n",
        "plt.xlabel('Number of epochs')\n",
        "plt.ylabel('Loss')\n",
        "plt.legend()\n",
        "plt.show()"
      ]
    },
    {
      "cell_type": "code",
      "execution_count": null,
      "id": "c7b6c741",
      "metadata": {
        "execution": {
          "iopub.execute_input": "2022-04-04T17:41:43.581540Z",
          "iopub.status.busy": "2022-04-04T17:41:43.580715Z",
          "iopub.status.idle": "2022-04-04T17:41:43.614670Z",
          "shell.execute_reply": "2022-04-04T17:41:43.615075Z",
          "shell.execute_reply.started": "2022-04-04T17:29:49.176539Z"
        },
        "papermill": {
          "duration": 0.108548,
          "end_time": "2022-04-04T17:41:43.615210",
          "exception": false,
          "start_time": "2022-04-04T17:41:43.506662",
          "status": "completed"
        },
        "tags": [],
        "id": "c7b6c741"
      },
      "outputs": [],
      "source": [
        "# putting the predicted labels in a csv file\n",
        "import pandas as pd\n",
        "df=pd.DataFrame(columns=['id','label'])\n",
        "labels = []\n",
        "for i in range(len(predicted_list)):\n",
        "    temp_arr = predicted_list[i].cpu().detach().numpy()\n",
        "    for j in temp_arr:\n",
        "        labels.append(j)\n",
        "df['label']=labels\n",
        "df['id']=[i for i in range(len(labels))]\n",
        "df.to_csv('predictions_task2a.csv',index=False)"
      ]
    },
    {
      "cell_type": "code",
      "execution_count": null,
      "id": "8229fc9a",
      "metadata": {
        "execution": {
          "iopub.execute_input": "2022-04-04T17:41:43.751069Z",
          "iopub.status.busy": "2022-04-04T17:41:43.750482Z",
          "iopub.status.idle": "2022-04-04T17:41:45.299294Z",
          "shell.execute_reply": "2022-04-04T17:41:45.299780Z",
          "shell.execute_reply.started": "2022-04-04T17:29:51.094456Z"
        },
        "papermill": {
          "duration": 1.62047,
          "end_time": "2022-04-04T17:41:45.299954",
          "exception": false,
          "start_time": "2022-04-04T17:41:43.679484",
          "status": "completed"
        },
        "tags": [],
        "id": "8229fc9a",
        "outputId": "6661cfe3-dbaf-43b3-d7b9-823c8a7a7165"
      },
      "outputs": [
        {
          "name": "stdout",
          "output_type": "stream",
          "text": [
            "Class: AnnualCrop | Recall: 0.955\n",
            "Class: Forest | Recall: 0.995\n",
            "Class: HerbaceousVegetation | Recall: 0.9517\n",
            "Class: Highway | Recall: 0.97\n",
            "Class: Industrial | Recall: 0.99\n",
            "Class: Pasture | Recall: 0.9575\n",
            "Class: PermanentCrop | Recall: 0.932\n",
            "Class: Residential | Recall: 0.9767\n",
            "Class: River | Recall: 0.968\n",
            "Class: SeaLake | Recall: 0.995\n"
          ]
        }
      ],
      "source": [
        "from sklearn.metrics import confusion_matrix, classification_report\n",
        "import seaborn as sn\n",
        "import pandas as pd\n",
        "\n",
        "y_pred = []\n",
        "y_true = []\n",
        "\n",
        "with torch.no_grad():\n",
        "    # iterate over test data\n",
        "    for images, labels in test_loader:\n",
        "        images = images.cuda()\n",
        "        labels = labels.cuda()\n",
        "        output = model(images) # Feed Network\n",
        "\n",
        "        output = (torch.max(torch.exp(output), 1)[1]).data.cpu().numpy()\n",
        "        \n",
        "        y_pred.extend(output) # Save Prediction\n",
        "\n",
        "        labels = labels.data.cpu().numpy()\n",
        "        y_true.extend(labels) # Save Truth\n",
        "\n",
        "# constant for classes\n",
        "classes = ('AnnualCrop', 'Forest', 'HerbaceousVegetation', 'Highway', 'Industrial',\n",
        "        'Pasture', 'PermanentCrop', 'Residential', 'River', 'SeaLake')\n",
        "\n",
        "report = classification_report(y_true, y_pred,target_names=classes,output_dict=True)\n",
        "# print(report)\n",
        "\n",
        "for i in classes:\n",
        "    print('Class: '+str(i)+' | Recall: '+str(round(report[i]['recall'],4)))\n"
      ]
    },
    {
      "cell_type": "code",
      "execution_count": null,
      "id": "5330d74d",
      "metadata": {
        "execution": {
          "iopub.execute_input": "2022-04-04T17:41:45.423207Z",
          "iopub.status.busy": "2022-04-04T17:41:45.422537Z",
          "iopub.status.idle": "2022-04-04T17:41:45.426015Z",
          "shell.execute_reply": "2022-04-04T17:41:45.425575Z",
          "shell.execute_reply.started": "2022-04-04T17:29:57.251283Z"
        },
        "papermill": {
          "duration": 0.066546,
          "end_time": "2022-04-04T17:41:45.426130",
          "exception": false,
          "start_time": "2022-04-04T17:41:45.359584",
          "status": "completed"
        },
        "tags": [],
        "id": "5330d74d"
      },
      "outputs": [],
      "source": [
        "# helper function to show images\n",
        "def imshow(img):\n",
        "    npimg = img.cpu().detach().numpy()\n",
        "    plt.imshow(np.transpose(npimg, (1, 2, 0)))"
      ]
    },
    {
      "cell_type": "code",
      "execution_count": null,
      "id": "22f6cc59",
      "metadata": {
        "execution": {
          "iopub.execute_input": "2022-04-04T17:41:45.558795Z",
          "iopub.status.busy": "2022-04-04T17:41:45.557499Z",
          "iopub.status.idle": "2022-04-04T17:41:46.704632Z",
          "shell.execute_reply": "2022-04-04T17:41:46.705102Z",
          "shell.execute_reply.started": "2022-04-04T17:29:59.817256Z"
        },
        "papermill": {
          "duration": 1.219762,
          "end_time": "2022-04-04T17:41:46.705259",
          "exception": false,
          "start_time": "2022-04-04T17:41:45.485497",
          "status": "completed"
        },
        "tags": [],
        "id": "22f6cc59",
        "outputId": "bec2c462-2236-4227-c847-5c63b31870b7"
      },
      "outputs": [
        {
          "name": "stdout",
          "output_type": "stream",
          "text": [
            "True Class: PermanentCrop\n",
            "Predicted Class: HerbaceousVegetation\n",
            "Prediction Probability: 0.9999994\n"
          ]
        },
        {
          "data": {
            "image/png": "[encoded data removed]",
            "text/plain": [
              "<Figure size 432x288 with 1 Axes>"
            ]
          },
          "metadata": {
            "needs_background": "light"
          },
          "output_type": "display_data"
        }
      ],
      "source": [
        "\n",
        "index = 0\n",
        "\n",
        "# dictionary to store information related to an image\n",
        "image_prob = {}\n",
        "\n",
        "with torch.no_grad():\n",
        "    # iterate over test data\n",
        "    for images, labels in test_loader:\n",
        "        images = images.cuda()\n",
        "        labels = labels.cuda()\n",
        "        output = model(images) # Feed Network\n",
        "        _, predicted = torch.max(output.data, 1)\n",
        "        sm = torch.nn.Softmax(dim=1)\n",
        "        # get the softmax probabilites\n",
        "        probabilities = sm(output)\n",
        "        for item in range(len(predicted)):\n",
        "            if(predicted[item]!=labels[item]):\n",
        "                true = labels[item]\n",
        "                predict = predicted[item]\n",
        "                prob = torch.max(probabilities[item]).data.cpu().numpy()\n",
        "                img = images[item]\n",
        "                temp_tuple = (prob,img,true,predict)\n",
        "                image_prob[index]=temp_tuple\n",
        "                index += 1\n",
        "            else:\n",
        "                index +=1\n",
        "\n",
        "# sort the dictionary in reverse order\n",
        "sorted_image_prob = {k: v for k, v in sorted(image_prob.items(), key=lambda item: item[1],reverse=True)}\n",
        "\n",
        "\n",
        "img_index = 1\n",
        "required_keys = []\n",
        "# get the top 4 probabilites\n",
        "for key,value in sorted_image_prob.items():\n",
        "    required_keys.append(key)\n",
        "    if(img_index ==4):\n",
        "        break\n",
        "    img_index +=1\n",
        "\n",
        "print('True Class: '+str((classes[(sorted_image_prob[required_keys[0]][2]).data.cpu()])))\n",
        "print('Predicted Class: '+str((classes[(sorted_image_prob[required_keys[0]][3]).data.cpu()])))\n",
        "print('Prediction Probability: '+str((sorted_image_prob[required_keys[0]][0])))\n",
        "imshow(sorted_image_prob[required_keys[0]][1])\n"
      ]
    },
    {
      "cell_type": "code",
      "execution_count": null,
      "id": "8a9dabcd",
      "metadata": {
        "execution": {
          "iopub.execute_input": "2022-04-04T17:41:46.838977Z",
          "iopub.status.busy": "2022-04-04T17:41:46.838086Z",
          "iopub.status.idle": "2022-04-04T17:41:47.034828Z",
          "shell.execute_reply": "2022-04-04T17:41:47.034303Z",
          "shell.execute_reply.started": "2022-04-04T17:30:05.589163Z"
        },
        "papermill": {
          "duration": 0.266822,
          "end_time": "2022-04-04T17:41:47.034977",
          "exception": false,
          "start_time": "2022-04-04T17:41:46.768155",
          "status": "completed"
        },
        "tags": [],
        "id": "8a9dabcd",
        "outputId": "b4f91800-5033-44e8-d5f5-e7116f036834"
      },
      "outputs": [
        {
          "name": "stdout",
          "output_type": "stream",
          "text": [
            "True Class: HerbaceousVegetation\n",
            "Predicted Class: PermanentCrop\n",
            "Prediction Probability: 0.9999993\n"
          ]
        },
        {
          "data": {
            "image/png": "[encoded data removed]",
            "text/plain": [
              "<Figure size 432x288 with 1 Axes>"
            ]
          },
          "metadata": {
            "needs_background": "light"
          },
          "output_type": "display_data"
        }
      ],
      "source": [
        "print('True Class: '+str((classes[(sorted_image_prob[required_keys[1]][2]).data.cpu()])))\n",
        "print('Predicted Class: '+str((classes[(sorted_image_prob[required_keys[1]][3]).data.cpu()])))\n",
        "print('Prediction Probability: '+str((sorted_image_prob[required_keys[1]][0])))\n",
        "imshow(sorted_image_prob[required_keys[1]][1])"
      ]
    },
    {
      "cell_type": "code",
      "execution_count": null,
      "id": "393dbc1e",
      "metadata": {
        "execution": {
          "iopub.execute_input": "2022-04-04T17:41:47.168315Z",
          "iopub.status.busy": "2022-04-04T17:41:47.167526Z",
          "iopub.status.idle": "2022-04-04T17:41:47.346038Z",
          "shell.execute_reply": "2022-04-04T17:41:47.345283Z",
          "shell.execute_reply.started": "2022-04-04T17:30:10.420978Z"
        },
        "papermill": {
          "duration": 0.244878,
          "end_time": "2022-04-04T17:41:47.346156",
          "exception": false,
          "start_time": "2022-04-04T17:41:47.101278",
          "status": "completed"
        },
        "tags": [],
        "id": "393dbc1e",
        "outputId": "da2d8dc1-0425-4f47-d606-ee4ce07d5a0a"
      },
      "outputs": [
        {
          "name": "stdout",
          "output_type": "stream",
          "text": [
            "True Class: HerbaceousVegetation\n",
            "Predicted Class: PermanentCrop\n",
            "Prediction Probability: 0.9999441\n"
          ]
        },
        {
          "data": {
            "image/png": "[encoded data removed]",
            "text/plain": [
              "<Figure size 432x288 with 1 Axes>"
            ]
          },
          "metadata": {
            "needs_background": "light"
          },
          "output_type": "display_data"
        }
      ],
      "source": [
        "print('True Class: '+str((classes[(sorted_image_prob[required_keys[2]][2]).data.cpu()])))\n",
        "print('Predicted Class: '+str((classes[(sorted_image_prob[required_keys[2]][3]).data.cpu()])))\n",
        "print('Prediction Probability: '+str((sorted_image_prob[required_keys[2]][0])))\n",
        "imshow(sorted_image_prob[required_keys[2]][1])"
      ]
    },
    {
      "cell_type": "code",
      "execution_count": null,
      "id": "a17e2466",
      "metadata": {
        "execution": {
          "iopub.execute_input": "2022-04-04T17:41:47.477643Z",
          "iopub.status.busy": "2022-04-04T17:41:47.476884Z",
          "iopub.status.idle": "2022-04-04T17:41:47.661614Z",
          "shell.execute_reply": "2022-04-04T17:41:47.661145Z",
          "shell.execute_reply.started": "2022-04-04T17:30:15.900533Z"
        },
        "papermill": {
          "duration": 0.252843,
          "end_time": "2022-04-04T17:41:47.661727",
          "exception": false,
          "start_time": "2022-04-04T17:41:47.408884",
          "status": "completed"
        },
        "tags": [],
        "id": "a17e2466",
        "outputId": "4a1e01c9-3b61-4d99-a6f8-16b46d15d0e9"
      },
      "outputs": [
        {
          "name": "stdout",
          "output_type": "stream",
          "text": [
            "True Class: PermanentCrop\n",
            "Predicted Class: HerbaceousVegetation\n",
            "Prediction Probability: 0.99987113\n"
          ]
        },
        {
          "data": {
            "image/png": "[encoded data removed]",
            "text/plain": [
              "<Figure size 432x288 with 1 Axes>"
            ]
          },
          "metadata": {
            "needs_background": "light"
          },
          "output_type": "display_data"
        }
      ],
      "source": [
        "print('True Class: '+str((classes[(sorted_image_prob[required_keys[3]][2]).data.cpu()])))\n",
        "print('Predicted Class: '+str((classes[(sorted_image_prob[required_keys[3]][3]).data.cpu()])))\n",
        "print('Prediction Probability: '+str((sorted_image_prob[required_keys[3]][0])))\n",
        "imshow(sorted_image_prob[required_keys[3]][1])"
      ]
    },
    {
      "cell_type": "markdown",
      "id": "7feefc72",
      "metadata": {
        "papermill": {
          "duration": 0.068704,
          "end_time": "2022-04-04T17:41:47.799023",
          "exception": false,
          "start_time": "2022-04-04T17:41:47.730319",
          "status": "completed"
        },
        "tags": [],
        "id": "7feefc72"
      },
      "source": [
        "# Task 2(b) : Resnet18 (Pretrained = False)"
      ]
    },
    {
      "cell_type": "code",
      "execution_count": null,
      "id": "614a03d0",
      "metadata": {
        "execution": {
          "iopub.execute_input": "2022-04-04T17:41:47.937619Z",
          "iopub.status.busy": "2022-04-04T17:41:47.936740Z",
          "iopub.status.idle": "2022-04-04T17:41:48.128591Z",
          "shell.execute_reply": "2022-04-04T17:41:48.129038Z",
          "shell.execute_reply.started": "2022-04-04T17:30:22.886443Z"
        },
        "papermill": {
          "duration": 0.263952,
          "end_time": "2022-04-04T17:41:48.129207",
          "exception": false,
          "start_time": "2022-04-04T17:41:47.865255",
          "status": "completed"
        },
        "tags": [],
        "id": "614a03d0",
        "outputId": "08643e95-7063-49ea-f827-ca24616dff7c"
      },
      "outputs": [
        {
          "data": {
            "text/plain": [
              "ResNet(\n",
              "  (conv1): Conv2d(3, 64, kernel_size=(7, 7), stride=(2, 2), padding=(3, 3), bias=False)\n",
              "  (bn1): BatchNorm2d(64, eps=1e-05, momentum=0.1, affine=True, track_running_stats=True)\n",
              "  (relu): ReLU(inplace=True)\n",
              "  (maxpool): MaxPool2d(kernel_size=3, stride=2, padding=1, dilation=1, ceil_mode=False)\n",
              "  (layer1): Sequential(\n",
              "    (0): BasicBlock(\n",
              "      (conv1): Conv2d(64, 64, kernel_size=(3, 3), stride=(1, 1), padding=(1, 1), bias=False)\n",
              "      (bn1): BatchNorm2d(64, eps=1e-05, momentum=0.1, affine=True, track_running_stats=True)\n",
              "      (relu): ReLU(inplace=True)\n",
              "      (conv2): Conv2d(64, 64, kernel_size=(3, 3), stride=(1, 1), padding=(1, 1), bias=False)\n",
              "      (bn2): BatchNorm2d(64, eps=1e-05, momentum=0.1, affine=True, track_running_stats=True)\n",
              "    )\n",
              "    (1): BasicBlock(\n",
              "      (conv1): Conv2d(64, 64, kernel_size=(3, 3), stride=(1, 1), padding=(1, 1), bias=False)\n",
              "      (bn1): BatchNorm2d(64, eps=1e-05, momentum=0.1, affine=True, track_running_stats=True)\n",
              "      (relu): ReLU(inplace=True)\n",
              "      (conv2): Conv2d(64, 64, kernel_size=(3, 3), stride=(1, 1), padding=(1, 1), bias=False)\n",
              "      (bn2): BatchNorm2d(64, eps=1e-05, momentum=0.1, affine=True, track_running_stats=True)\n",
              "    )\n",
              "  )\n",
              "  (layer2): Sequential(\n",
              "    (0): BasicBlock(\n",
              "      (conv1): Conv2d(64, 128, kernel_size=(3, 3), stride=(2, 2), padding=(1, 1), bias=False)\n",
              "      (bn1): BatchNorm2d(128, eps=1e-05, momentum=0.1, affine=True, track_running_stats=True)\n",
              "      (relu): ReLU(inplace=True)\n",
              "      (conv2): Conv2d(128, 128, kernel_size=(3, 3), stride=(1, 1), padding=(1, 1), bias=False)\n",
              "      (bn2): BatchNorm2d(128, eps=1e-05, momentum=0.1, affine=True, track_running_stats=True)\n",
              "      (downsample): Sequential(\n",
              "        (0): Conv2d(64, 128, kernel_size=(1, 1), stride=(2, 2), bias=False)\n",
              "        (1): BatchNorm2d(128, eps=1e-05, momentum=0.1, affine=True, track_running_stats=True)\n",
              "      )\n",
              "    )\n",
              "    (1): BasicBlock(\n",
              "      (conv1): Conv2d(128, 128, kernel_size=(3, 3), stride=(1, 1), padding=(1, 1), bias=False)\n",
              "      (bn1): BatchNorm2d(128, eps=1e-05, momentum=0.1, affine=True, track_running_stats=True)\n",
              "      (relu): ReLU(inplace=True)\n",
              "      (conv2): Conv2d(128, 128, kernel_size=(3, 3), stride=(1, 1), padding=(1, 1), bias=False)\n",
              "      (bn2): BatchNorm2d(128, eps=1e-05, momentum=0.1, affine=True, track_running_stats=True)\n",
              "    )\n",
              "  )\n",
              "  (layer3): Sequential(\n",
              "    (0): BasicBlock(\n",
              "      (conv1): Conv2d(128, 256, kernel_size=(3, 3), stride=(2, 2), padding=(1, 1), bias=False)\n",
              "      (bn1): BatchNorm2d(256, eps=1e-05, momentum=0.1, affine=True, track_running_stats=True)\n",
              "      (relu): ReLU(inplace=True)\n",
              "      (conv2): Conv2d(256, 256, kernel_size=(3, 3), stride=(1, 1), padding=(1, 1), bias=False)\n",
              "      (bn2): BatchNorm2d(256, eps=1e-05, momentum=0.1, affine=True, track_running_stats=True)\n",
              "      (downsample): Sequential(\n",
              "        (0): Conv2d(128, 256, kernel_size=(1, 1), stride=(2, 2), bias=False)\n",
              "        (1): BatchNorm2d(256, eps=1e-05, momentum=0.1, affine=True, track_running_stats=True)\n",
              "      )\n",
              "    )\n",
              "    (1): BasicBlock(\n",
              "      (conv1): Conv2d(256, 256, kernel_size=(3, 3), stride=(1, 1), padding=(1, 1), bias=False)\n",
              "      (bn1): BatchNorm2d(256, eps=1e-05, momentum=0.1, affine=True, track_running_stats=True)\n",
              "      (relu): ReLU(inplace=True)\n",
              "      (conv2): Conv2d(256, 256, kernel_size=(3, 3), stride=(1, 1), padding=(1, 1), bias=False)\n",
              "      (bn2): BatchNorm2d(256, eps=1e-05, momentum=0.1, affine=True, track_running_stats=True)\n",
              "    )\n",
              "  )\n",
              "  (layer4): Sequential(\n",
              "    (0): BasicBlock(\n",
              "      (conv1): Conv2d(256, 512, kernel_size=(3, 3), stride=(2, 2), padding=(1, 1), bias=False)\n",
              "      (bn1): BatchNorm2d(512, eps=1e-05, momentum=0.1, affine=True, track_running_stats=True)\n",
              "      (relu): ReLU(inplace=True)\n",
              "      (conv2): Conv2d(512, 512, kernel_size=(3, 3), stride=(1, 1), padding=(1, 1), bias=False)\n",
              "      (bn2): BatchNorm2d(512, eps=1e-05, momentum=0.1, affine=True, track_running_stats=True)\n",
              "      (downsample): Sequential(\n",
              "        (0): Conv2d(256, 512, kernel_size=(1, 1), stride=(2, 2), bias=False)\n",
              "        (1): BatchNorm2d(512, eps=1e-05, momentum=0.1, affine=True, track_running_stats=True)\n",
              "      )\n",
              "    )\n",
              "    (1): BasicBlock(\n",
              "      (conv1): Conv2d(512, 512, kernel_size=(3, 3), stride=(1, 1), padding=(1, 1), bias=False)\n",
              "      (bn1): BatchNorm2d(512, eps=1e-05, momentum=0.1, affine=True, track_running_stats=True)\n",
              "      (relu): ReLU(inplace=True)\n",
              "      (conv2): Conv2d(512, 512, kernel_size=(3, 3), stride=(1, 1), padding=(1, 1), bias=False)\n",
              "      (bn2): BatchNorm2d(512, eps=1e-05, momentum=0.1, affine=True, track_running_stats=True)\n",
              "    )\n",
              "  )\n",
              "  (avgpool): AdaptiveAvgPool2d(output_size=(1, 1))\n",
              "  (fc): Linear(in_features=512, out_features=10, bias=True)\n",
              ")"
            ]
          },
          "execution_count": 21,
          "metadata": {},
          "output_type": "execute_result"
        }
      ],
      "source": [
        "untrained_model = models.resnet18(pretrained=False)\n",
        "# Add an output dense layer with 10 nodes\n",
        "untrained_model.fc = nn.Linear(512, 10)\n",
        "untrained_model.cuda()\n"
      ]
    },
    {
      "cell_type": "code",
      "execution_count": null,
      "id": "9bfaecc3",
      "metadata": {
        "execution": {
          "iopub.execute_input": "2022-04-04T17:41:48.270443Z",
          "iopub.status.busy": "2022-04-04T17:41:48.269738Z",
          "iopub.status.idle": "2022-04-04T17:41:48.272478Z",
          "shell.execute_reply": "2022-04-04T17:41:48.272848Z",
          "shell.execute_reply.started": "2022-04-04T17:30:26.514359Z"
        },
        "papermill": {
          "duration": 0.078757,
          "end_time": "2022-04-04T17:41:48.273007",
          "exception": false,
          "start_time": "2022-04-04T17:41:48.194250",
          "status": "completed"
        },
        "tags": [],
        "id": "9bfaecc3"
      },
      "outputs": [],
      "source": [
        "# helper function to train the model\n",
        "def train(untrained_model,train_loader,val_loader,loss_criteria,optimizer, epoch):\n",
        "  \n",
        "  train_loss = 0\n",
        "  train_total = 0\n",
        "  train_correct = 0\n",
        "\n",
        "  untrained_model.train()\n",
        "  # Process the images in batches\n",
        "  for batch_idx, (data, target) in enumerate(train_loader):\n",
        "      \n",
        "    # Load the input features and labels from the dataset\n",
        "    data, target = data.cuda(), target.cuda()\n",
        "    \n",
        "    # Reset the optimizer\n",
        "    optimizer.zero_grad()\n",
        "    \n",
        "    # Forward pass: Pass image data from training dataset, make predictions about class image\n",
        "    output = untrained_model(data)\n",
        "    \n",
        "    # Get the loss\n",
        "    loss = loss_criteria(output, target)\n",
        "\n",
        "    # Keep a running total\n",
        "    train_loss += loss.item()\n",
        "\n",
        "    # scores, predictions = torch.max(output.data, 1)\n",
        "    train_total += target.size(0)\n",
        "    train_correct += torch.sum(torch.argmax(output, dim=1) == target)\n",
        "    # train_correct += int(sum(predictions == target))\n",
        "  \n",
        "    # Backpropagate\n",
        "    loss.backward()\n",
        "\n",
        "    # Update the neural network weights\n",
        "    optimizer.step()\n",
        "            \n",
        "  train_acc = round((train_correct.item() / len(train_loader.dataset)) * 100, 4)\n",
        "  print('Epoch [{}], train_loss: {}, train_accuracy: {}'.format(epoch, train_loss/train_total, train_acc), end='')\n",
        "  print('\\n')\n",
        "\n",
        "  val_loss = 0\n",
        "  val_correct = 0\n",
        "  val_total = 0\n",
        "\n",
        "  untrained_model.eval()\n",
        "\n",
        "  # Process the images in batches\n",
        "  for batch_idx, (data, target) in enumerate(val_loader):\n",
        "\n",
        "    # Load the input features and labels from the dataset\n",
        "    data, target = data.cuda(), target.cuda()\n",
        "\n",
        "    # Forward pass: Pass image data from training dataset, make predictions about class image\n",
        "    output = untrained_model(data)\n",
        "\n",
        "    # Get the loss\n",
        "    loss = loss_criteria(output, target)\n",
        "\n",
        "    # Keep a running total\n",
        "    val_loss += loss.item()\n",
        "\n",
        "\n",
        "    # scores, predictions = torch.max(output.data, 1)\n",
        "    val_total += target.size(0)\n",
        "    val_correct += torch.sum(torch.argmax(output, dim=1) == target)\n",
        "    # val_correct += int(sum(predictions == target))\n",
        "\n",
        "  val_acc = round((val_correct.item() / len(val_loader.dataset)) * 100, 4)\n",
        "  print('Epoch [{}], val_loss: {}, val_accuracy: {}'.format(epoch, val_loss/val_total, val_acc), end='')\n",
        "  print('\\n')\n",
        "  return train_loss,train_acc,val_loss,val_acc"
      ]
    },
    {
      "cell_type": "code",
      "execution_count": null,
      "id": "6314c5c3",
      "metadata": {
        "execution": {
          "iopub.execute_input": "2022-04-04T17:41:48.406745Z",
          "iopub.status.busy": "2022-04-04T17:41:48.405999Z",
          "iopub.status.idle": "2022-04-04T17:41:48.407956Z",
          "shell.execute_reply": "2022-04-04T17:41:48.408431Z",
          "shell.execute_reply.started": "2022-04-04T17:30:30.977248Z"
        },
        "papermill": {
          "duration": 0.071149,
          "end_time": "2022-04-04T17:41:48.408550",
          "exception": false,
          "start_time": "2022-04-04T17:41:48.337401",
          "status": "completed"
        },
        "tags": [],
        "id": "6314c5c3"
      },
      "outputs": [],
      "source": [
        "# Use an \"Adam\" optimizer to adjust weights\n",
        "optimizer = optim.Adam(untrained_model.parameters(), lr=0.001)\n",
        "\n",
        "# Specify the loss criteria\n",
        "loss_criteria = nn.CrossEntropyLoss()\n",
        "\n",
        "# define learning rate scheduler\n",
        "scheduler = optim.lr_scheduler.StepLR(optimizer, step_size=20, gamma=0.1)"
      ]
    },
    {
      "cell_type": "markdown",
      "id": "1c587b9a",
      "metadata": {
        "papermill": {
          "duration": 0.063962,
          "end_time": "2022-04-04T17:41:48.536804",
          "exception": false,
          "start_time": "2022-04-04T17:41:48.472842",
          "status": "completed"
        },
        "tags": [],
        "id": "1c587b9a"
      },
      "source": [
        "# If you don't want to train the model again, don't run the below cell"
      ]
    },
    {
      "cell_type": "code",
      "execution_count": null,
      "id": "bc689f77",
      "metadata": {
        "execution": {
          "iopub.execute_input": "2022-04-04T17:41:48.674901Z",
          "iopub.status.busy": "2022-04-04T17:41:48.674096Z",
          "iopub.status.idle": "2022-04-04T17:46:26.113194Z",
          "shell.execute_reply": "2022-04-04T17:46:26.114154Z",
          "shell.execute_reply.started": "2022-04-04T17:30:33.540733Z"
        },
        "papermill": {
          "duration": 277.5132,
          "end_time": "2022-04-04T17:46:26.114326",
          "exception": false,
          "start_time": "2022-04-04T17:41:48.601126",
          "status": "completed"
        },
        "tags": [],
        "id": "bc689f77",
        "outputId": "4a9a7ced-46b2-4767-eb2e-8094d9d105a2"
      },
      "outputs": [
        {
          "name": "stdout",
          "output_type": "stream",
          "text": [
            "Epoch [1], train_loss: 0.009296889997711076, train_accuracy: 66.4272\n",
            "\n",
            "Epoch [1], val_loss: 0.011208380622911317, val_accuracy: 61.9658\n",
            "\n",
            "Epoch [2], train_loss: 0.006308542370237965, train_accuracy: 77.8736\n",
            "\n",
            "Epoch [2], val_loss: 0.00845497256500429, val_accuracy: 71.3319\n",
            "\n",
            "Epoch [3], train_loss: 0.005170286279021045, train_accuracy: 81.854\n",
            "\n",
            "Epoch [3], val_loss: 0.033597722225039775, val_accuracy: 36.5741\n",
            "\n",
            "Epoch [4], train_loss: 0.004378350828241013, train_accuracy: 84.7861\n",
            "\n",
            "Epoch [4], val_loss: 0.017841918855650812, val_accuracy: 47.8276\n",
            "\n",
            "Epoch [5], train_loss: 0.0037052782617981966, train_accuracy: 87.0211\n",
            "\n",
            "Epoch [5], val_loss: 0.026825340894552376, val_accuracy: 49.0741\n",
            "\n",
            "Epoch [6], train_loss: 0.0030718955233940523, train_accuracy: 89.3412\n",
            "\n",
            "Epoch [6], val_loss: 0.010723473742986336, val_accuracy: 70.2635\n",
            "\n",
            "Epoch [7], train_loss: 0.002743531761095467, train_accuracy: 90.3097\n",
            "\n",
            "Epoch [7], val_loss: 0.012776408325933833, val_accuracy: 66.3462\n",
            "\n",
            "Epoch [8], train_loss: 0.002253968680175176, train_accuracy: 92.1137\n",
            "\n",
            "Epoch [8], val_loss: 0.01324928779038269, val_accuracy: 67.2009\n",
            "\n",
            "Epoch [9], train_loss: 0.0017806205295086567, train_accuracy: 93.907\n",
            "\n",
            "Epoch [9], val_loss: 0.01817880534803086, val_accuracy: 67.4858\n",
            "\n",
            "Epoch [10], train_loss: 0.0017414078131879503, train_accuracy: 93.9921\n",
            "\n",
            "Epoch [10], val_loss: 0.01743904753797754, val_accuracy: 68.8034\n",
            "\n",
            "Epoch [11], train_loss: 0.001509987465877097, train_accuracy: 94.7584\n",
            "\n",
            "Epoch [11], val_loss: 0.03313971737511138, val_accuracy: 49.1097\n",
            "\n",
            "Epoch [12], train_loss: 0.0013623955985075263, train_accuracy: 95.2214\n",
            "\n",
            "Epoch [12], val_loss: 0.0061036310771591645, val_accuracy: 83.7607\n",
            "\n",
            "Epoch [13], train_loss: 0.0009193759451815743, train_accuracy: 96.8817\n",
            "\n",
            "Epoch [13], val_loss: 0.010735888304746049, val_accuracy: 74.8932\n",
            "\n",
            "Epoch [14], train_loss: 0.001059651933650087, train_accuracy: 96.3176\n",
            "\n",
            "Epoch [14], val_loss: 0.050405450865753695, val_accuracy: 41.7023\n",
            "\n",
            "Epoch [15], train_loss: 0.0009719531008995127, train_accuracy: 96.6901\n",
            "\n",
            "Epoch [15], val_loss: 0.007504738655015614, val_accuracy: 81.2322\n",
            "\n",
            "Epoch [16], train_loss: 0.0006356069997247196, train_accuracy: 97.8076\n",
            "\n",
            "Epoch [16], val_loss: 0.014895288204705273, val_accuracy: 77.0299\n",
            "\n",
            "Epoch [17], train_loss: 0.0007295853988086689, train_accuracy: 97.5468\n",
            "\n",
            "Epoch [17], val_loss: 0.014820024392373881, val_accuracy: 68.0556\n",
            "\n",
            "Epoch [18], train_loss: 0.0005549498960191821, train_accuracy: 98.063\n",
            "\n",
            "Epoch [18], val_loss: 0.006469159018237706, val_accuracy: 83.6538\n",
            "\n",
            "Epoch [19], train_loss: 0.000670040290434589, train_accuracy: 97.6958\n",
            "\n",
            "Epoch [19], val_loss: 0.007874496015812936, val_accuracy: 81.6595\n",
            "\n",
            "Epoch [20], train_loss: 0.0006207843261967953, train_accuracy: 97.8661\n",
            "\n",
            "Epoch [20], val_loss: 0.0069511451909684725, val_accuracy: 82.4786\n",
            "\n",
            "Epoch [21], train_loss: 0.00017771960073874264, train_accuracy: 99.4945\n",
            "\n",
            "Epoch [21], val_loss: 0.0029764079823051885, val_accuracy: 92.4145\n",
            "\n",
            "Epoch [22], train_loss: 9.228416253723801e-05, train_accuracy: 99.7659\n",
            "\n",
            "Epoch [22], val_loss: 0.003188291296596371, val_accuracy: 92.094\n",
            "\n",
            "Epoch [23], train_loss: 6.379158881698287e-05, train_accuracy: 99.8723\n",
            "\n",
            "Epoch [23], val_loss: 0.0028621747441711885, val_accuracy: 92.7707\n",
            "\n",
            "Epoch [24], train_loss: 7.406928180399751e-05, train_accuracy: 99.8776\n",
            "\n",
            "Epoch [24], val_loss: 0.003034551406545867, val_accuracy: 92.2721\n",
            "\n",
            "Epoch [25], train_loss: 4.1450086194226335e-05, train_accuracy: 99.9255\n",
            "\n",
            "Epoch [25], val_loss: 0.003679470055633121, val_accuracy: 93.1268\n",
            "\n",
            "Epoch [26], train_loss: 4.444364487128998e-05, train_accuracy: 99.9255\n",
            "\n",
            "Epoch [26], val_loss: 0.0029498493719940203, val_accuracy: 92.9487\n",
            "\n",
            "Epoch [27], train_loss: 3.509161747153888e-05, train_accuracy: 99.9521\n",
            "\n",
            "Epoch [27], val_loss: 0.0030270548075692267, val_accuracy: 92.9487\n",
            "\n",
            "Epoch [28], train_loss: 3.620779252351012e-05, train_accuracy: 99.9202\n",
            "\n",
            "Epoch [28], val_loss: 0.0029384217478975365, val_accuracy: 93.4473\n",
            "\n",
            "Epoch [29], train_loss: 4.0384921965785677e-05, train_accuracy: 99.9149\n",
            "\n",
            "Epoch [29], val_loss: 0.003678350937566017, val_accuracy: 92.1652\n",
            "\n",
            "Epoch [30], train_loss: 2.2382277814808827e-05, train_accuracy: 99.9787\n",
            "\n",
            "Epoch [30], val_loss: 0.003203567554972044, val_accuracy: 92.3077\n",
            "\n",
            "Epoch [31], train_loss: 2.651796437511965e-05, train_accuracy: 99.9521\n",
            "\n",
            "Epoch [31], val_loss: 0.0031976336162229547, val_accuracy: 93.0199\n",
            "\n",
            "Epoch [32], train_loss: 2.274752302333824e-05, train_accuracy: 99.9628\n",
            "\n",
            "Epoch [32], val_loss: 0.003781413980507613, val_accuracy: 92.2009\n",
            "\n",
            "Epoch [33], train_loss: 1.8400306535303207e-05, train_accuracy: 99.9787\n",
            "\n",
            "Epoch [33], val_loss: 0.003399225249037444, val_accuracy: 92.5926\n",
            "\n",
            "Epoch [34], train_loss: 2.2435648592403846e-05, train_accuracy: 99.9734\n",
            "\n",
            "Epoch [34], val_loss: 0.0034123717056337923, val_accuracy: 92.7707\n",
            "\n",
            "Epoch [35], train_loss: 1.7007566633910042e-05, train_accuracy: 99.9628\n",
            "\n",
            "Epoch [35], val_loss: 0.0033104359659835952, val_accuracy: 92.6282\n",
            "\n",
            "Epoch [36], train_loss: 1.7955955861891307e-05, train_accuracy: 99.9734\n",
            "\n",
            "Epoch [36], val_loss: 0.004833458230281487, val_accuracy: 89.9929\n",
            "\n",
            "Epoch [37], train_loss: 2.7965366675583326e-05, train_accuracy: 99.9415\n",
            "\n",
            "Epoch [37], val_loss: 0.0036193935380999178, val_accuracy: 92.5214\n",
            "\n",
            "Epoch [38], train_loss: 1.965785648969284e-05, train_accuracy: 99.9521\n",
            "\n",
            "Epoch [38], val_loss: 0.003906721817037658, val_accuracy: 92.4858\n",
            "\n",
            "Epoch [39], train_loss: 1.5887245257930005e-05, train_accuracy: 99.9628\n",
            "\n",
            "Epoch [39], val_loss: 0.00395433229004216, val_accuracy: 92.9131\n",
            "\n",
            "Early stopping at epoch 39\n"
          ]
        }
      ],
      "source": [
        "\n",
        "# Track metrics in these arrays\n",
        "epoch_nums = []\n",
        "training_loss = []\n",
        "validation_loss = []\n",
        "training_acc= []\n",
        "validation_acc= []\n",
        "val_loss_min = np.Inf\n",
        "best_epoch = 0\n",
        "best_model = None\n",
        "patience = 15\n",
        "\n",
        "\n",
        "epochs = 100\n",
        "for epoch in range(1, epochs + 1):\n",
        "    train_loss,train_acc,val_loss,val_acc = train(untrained_model,train_loader,val_loader,loss_criteria, optimizer, epoch)\n",
        "    epoch_nums.append(epoch)\n",
        "    training_loss.append(train_loss)\n",
        "    training_acc.append(train_acc)\n",
        "    validation_loss.append(val_loss)\n",
        "    validation_acc.append(val_acc)\n",
        "    \n",
        "    # create checkpoint variable and add important data\n",
        "    checkpoint = {\n",
        "        'epoch': epoch,\n",
        "        'valid_loss_min': val_loss,\n",
        "        'state_dict': untrained_model.state_dict(),\n",
        "        'optimizer': optimizer.state_dict(),\n",
        "    }\n",
        "    \n",
        "    \n",
        "    # saving the model with the least validation loss\n",
        "    if validation_loss[-1]<= val_loss_min:\n",
        "        checkpoint_path = 'logs_resnet_task2b/resnet_ckp_2.pt'\n",
        "        val_loss_min = validation_loss[-1]\n",
        "        best_epoch = epoch\n",
        "        best_model = untrained_model\n",
        "        torch.save(model.state_dict(),checkpoint_path)\n",
        "#         save_ckp(checkpoint, checkpoint_path)\n",
        "\n",
        "    #applying the early stopping principle  \n",
        "    if (epoch - best_epoch) > patience:\n",
        "      print('Early stopping at epoch {}'.format(epoch))\n",
        "      break\n",
        "        \n",
        "    scheduler.step()\n"
      ]
    },
    {
      "cell_type": "code",
      "execution_count": 3,
      "id": "bf9ab2b7",
      "metadata": {
        "execution": {
          "iopub.execute_input": "2022-04-04T17:46:26.324269Z",
          "iopub.status.busy": "2022-04-04T17:46:26.323458Z",
          "iopub.status.idle": "2022-04-04T17:46:28.770749Z",
          "shell.execute_reply": "2022-04-04T17:46:28.771196Z",
          "shell.execute_reply.started": "2022-04-04T17:17:54.011582Z"
        },
        "papermill": {
          "duration": 2.542645,
          "end_time": "2022-04-04T17:46:28.771358",
          "exception": false,
          "start_time": "2022-04-04T17:46:26.228713",
          "status": "completed"
        },
        "tags": [],
        "colab": {
          "base_uri": "https://localhost:8080/"
        },
        "id": "bf9ab2b7",
        "outputId": "7c55845e-1730-4943-c328-f09d811c7d81"
      },
      "outputs": [
        {
          "output_type": "execute_result",
          "data": {
            "text/plain": [
              "('./logs_resnet_task2b/resnet_ckp_2.pt',\n",
              " <http.client.HTTPMessage at 0x7f691792be90>)"
            ]
          },
          "metadata": {},
          "execution_count": 3
        }
      ],
      "source": [
        "from urllib import request\n",
        "#download the model from google drive\n",
        "remote_url = 'https://docs.google.com/uc?export=download&id=16IfdeQ8SWpfFV8ErSU1TC2YkH2zdPfNw'\n",
        "local_file = './logs_resnet_task2b/resnet_ckp_2.pt'\n",
        "request.urlretrieve(remote_url, local_file)   \n",
        "# if the model is trained again, the downloaded file will be overwritten"
      ]
    },
    {
      "cell_type": "code",
      "execution_count": null,
      "id": "ab41d30a",
      "metadata": {
        "execution": {
          "iopub.execute_input": "2022-04-04T17:46:28.951752Z",
          "iopub.status.busy": "2022-04-04T17:46:28.951265Z",
          "iopub.status.idle": "2022-04-04T17:46:28.991030Z",
          "shell.execute_reply": "2022-04-04T17:46:28.991406Z",
          "shell.execute_reply.started": "2022-04-04T17:35:12.590420Z"
        },
        "papermill": {
          "duration": 0.13153,
          "end_time": "2022-04-04T17:46:28.991538",
          "exception": false,
          "start_time": "2022-04-04T17:46:28.860008",
          "status": "completed"
        },
        "tags": [],
        "id": "ab41d30a",
        "outputId": "6b17e3ca-cccb-4aa9-dbcd-9fe968855535"
      },
      "outputs": [
        {
          "data": {
            "text/plain": [
              "<All keys matched successfully>"
            ]
          },
          "execution_count": 26,
          "metadata": {},
          "output_type": "execute_result"
        }
      ],
      "source": [
        "ckp_path = \"./logs_resnet_task2b/resnet_ckp_2.pt\"\n",
        "untrained_model.load_state_dict(torch.load(ckp_path))\n",
        "# load the saved checkpoint for best model"
      ]
    },
    {
      "cell_type": "markdown",
      "source": [
        "# The below cell will throw error, if model is not trained"
      ],
      "metadata": {
        "id": "EGEaaGLWoUUP"
      },
      "id": "EGEaaGLWoUUP"
    },
    {
      "cell_type": "code",
      "execution_count": null,
      "id": "67acd287",
      "metadata": {
        "execution": {
          "iopub.execute_input": "2022-04-04T17:46:29.186207Z",
          "iopub.status.busy": "2022-04-04T17:46:29.174737Z",
          "iopub.status.idle": "2022-04-04T17:46:29.469048Z",
          "shell.execute_reply": "2022-04-04T17:46:29.468598Z",
          "shell.execute_reply.started": "2022-04-04T17:35:15.389894Z"
        },
        "papermill": {
          "duration": 0.388865,
          "end_time": "2022-04-04T17:46:29.469169",
          "exception": false,
          "start_time": "2022-04-04T17:46:29.080304",
          "status": "completed"
        },
        "tags": [],
        "id": "67acd287",
        "outputId": "13dc0dff-d5b7-4026-9c33-899c7d860b1a"
      },
      "outputs": [
        {
          "data": {
            "image/png": "[encoded data removed]",
            "text/plain": [
              "<Figure size 720x360 with 2 Axes>"
            ]
          },
          "metadata": {
            "needs_background": "light"
          },
          "output_type": "display_data"
        }
      ],
      "source": [
        "plt.figure(figsize=(10,5))\n",
        "plt.subplot(1,2,1)\n",
        "plt.plot(training_loss, label=\"train loss\")\n",
        "plt.plot(validation_loss, label=\"val loss\")\n",
        "plt.xlabel('Number of epochs')\n",
        "plt.ylabel('Loss')\n",
        "plt.legend()\n",
        "plt.subplot(1,2,2)\n",
        "plt.plot(training_acc, label=\"train acc\")\n",
        "plt.plot(validation_acc, label=\"val acc\")\n",
        "plt.xlabel('Number of epochs')\n",
        "plt.ylabel('Loss')\n",
        "plt.legend()\n",
        "plt.show()"
      ]
    },
    {
      "cell_type": "code",
      "execution_count": null,
      "id": "af6f4a6b",
      "metadata": {
        "execution": {
          "iopub.execute_input": "2022-04-04T17:46:29.666117Z",
          "iopub.status.busy": "2022-04-04T17:46:29.664975Z",
          "iopub.status.idle": "2022-04-04T17:46:30.831371Z",
          "shell.execute_reply": "2022-04-04T17:46:30.832134Z",
          "shell.execute_reply.started": "2022-04-04T17:35:22.578700Z"
        },
        "papermill": {
          "duration": 1.26992,
          "end_time": "2022-04-04T17:46:30.832339",
          "exception": false,
          "start_time": "2022-04-04T17:46:29.562419",
          "status": "completed"
        },
        "tags": [],
        "id": "af6f4a6b",
        "outputId": "140e57fe-4445-425e-c334-59018d0fe556"
      },
      "outputs": [
        {
          "name": "stdout",
          "output_type": "stream",
          "text": [
            "Accuracy of the model on the validation set: 92.913105 %\n",
            "Accuracy of the model on the test set: 93.333333 %\n"
          ]
        }
      ],
      "source": [
        "untrained_model.eval()\n",
        "correct = 0\n",
        "total = 0\n",
        "\n",
        "# accuracy on validation set\n",
        "with torch.no_grad():\n",
        "    for images, labels in val_loader:\n",
        "        images = images.cuda()\n",
        "        labels = labels.cuda()\n",
        "        output = untrained_model(images)\n",
        "        _, predicted = torch.max(output.data, 1)\n",
        "        total += labels.size(0)\n",
        "        correct += (predicted == labels).sum().item()\n",
        "print('Accuracy of the model on the validation set: %f %%' %\n",
        "      (100 * correct / total))\n",
        "\n",
        "\n",
        "# accuracy on test set\n",
        "correct = 0\n",
        "total = 0\n",
        "predicted_list = []\n",
        "with torch.no_grad():\n",
        "    for images, labels in test_loader:\n",
        "        images = images.cuda()\n",
        "        labels = labels.cuda()\n",
        "        output = untrained_model(images)\n",
        "        _, predicted = torch.max(output.data, 1)\n",
        "        predicted_list.append(predicted)\n",
        "        total += labels.size(0)\n",
        "        correct += (predicted == labels).sum().item()\n",
        "print('Accuracy of the model on the test set: %f %%' %\n",
        "      (100 * correct / total))"
      ]
    },
    {
      "cell_type": "code",
      "execution_count": null,
      "id": "b560c738",
      "metadata": {
        "execution": {
          "iopub.execute_input": "2022-04-04T17:46:31.025652Z",
          "iopub.status.busy": "2022-04-04T17:46:31.024851Z",
          "iopub.status.idle": "2022-04-04T17:46:31.048224Z",
          "shell.execute_reply": "2022-04-04T17:46:31.047761Z",
          "shell.execute_reply.started": "2022-04-04T17:35:27.335808Z"
        },
        "papermill": {
          "duration": 0.122706,
          "end_time": "2022-04-04T17:46:31.048345",
          "exception": false,
          "start_time": "2022-04-04T17:46:30.925639",
          "status": "completed"
        },
        "tags": [],
        "id": "b560c738"
      },
      "outputs": [],
      "source": [
        "# putting the predicted labels in a csv file\n",
        "import pandas as pd\n",
        "df=pd.DataFrame(columns=['id','label'])\n",
        "labels = []\n",
        "for i in range(len(predicted_list)):\n",
        "    temp_arr = predicted_list[i].cpu().detach().numpy()\n",
        "    for j in temp_arr:\n",
        "        labels.append(j)\n",
        "df['label']=labels\n",
        "df['id']=[i for i in range(len(labels))]\n",
        "df.to_csv('predictions_task2b.csv',index=False)"
      ]
    }
  ],
  "metadata": {
    "kernelspec": {
      "display_name": "Python 3",
      "language": "python",
      "name": "python3"
    },
    "language_info": {
      "codemirror_mode": {
        "name": "ipython",
        "version": 3
      },
      "file_extension": ".py",
      "mimetype": "text/x-python",
      "name": "python",
      "nbconvert_exporter": "python",
      "pygments_lexer": "ipython3",
      "version": "3.7.12"
    },
    "papermill": {
      "default_parameters": {},
      "duration": 645.657808,
      "end_time": "2022-04-04T17:46:33.596186",
      "environment_variables": {},
      "exception": null,
      "input_path": "__notebook__.ipynb",
      "output_path": "__notebook__.ipynb",
      "parameters": {},
      "start_time": "2022-04-04T17:35:47.938378",
      "version": "2.3.3"
    },
    "widgets": {
      "application/vnd.jupyter.widget-state+json": {}
    },
    "colab": {
      "name": "resnet-21cs60r01-abhishek-topwal.ipynb",
      "provenance": [],
      "collapsed_sections": []
    }
  },
  "nbformat": 4,
  "nbformat_minor": 5
}