{
  "cells": [
    {
      "cell_type": "code",
      "execution_count": null,
      "id": "582c5fac",
      "metadata": {
        "_cell_guid": "b1076dfc-b9ad-4769-8c92-a6c4dae69d19",
        "_uuid": "8f2839f25d086af736a60e9eeb907d3b93b6e0e5",
        "execution": {
          "iopub.execute_input": "2022-04-04T13:34:40.378405Z",
          "iopub.status.busy": "2022-04-04T13:34:40.376908Z",
          "iopub.status.idle": "2022-04-04T13:34:40.388183Z",
          "shell.execute_reply": "2022-04-04T13:34:40.388839Z",
          "shell.execute_reply.started": "2022-04-04T13:21:49.451802Z"
        },
        "papermill": {
          "duration": 0.034136,
          "end_time": "2022-04-04T13:34:40.389111",
          "exception": false,
          "start_time": "2022-04-04T13:34:40.354975",
          "status": "completed"
        },
        "tags": [],
        "id": "582c5fac",
        "outputId": "b3039baf-e506-4c03-b2ce-bb76f9925e6b"
      },
      "outputs": [
        {
          "name": "stdout",
          "output_type": "stream",
          "text": [
            "/kaggle/input/ml-assignment-cl-ii-lab/euroSAT_train_val_test.pkl\n"
          ]
        }
      ],
      "source": [
        "# This Python 3 environment comes with many helpful analytics libraries installed\n",
        "# It is defined by the kaggle/python Docker image: https://github.com/kaggle/docker-python\n",
        "# For example, here's several helpful packages to load\n",
        "\n",
        "import numpy as np # linear algebra\n",
        "import pandas as pd # data processing, CSV file I/O (e.g. pd.read_csv)\n",
        "\n",
        "# Input data files are available in the read-only \"../input/\" directory\n",
        "# For example, running this (by clicking run or pressing Shift+Enter) will list all files under the input directory\n",
        "\n",
        "import os\n",
        "for dirname, _, filenames in os.walk('/kaggle/input'):\n",
        "    for filename in filenames:\n",
        "        print(os.path.join(dirname, filename))\n",
        "\n",
        "# You can write up to 20GB to the current directory (/kaggle/working/) that gets preserved as output when you create a version using \"Save & Run All\" \n",
        "# You can also write temporary files to /kaggle/temp/, but they won't be saved outside of the current session"
      ]
    },
    {
      "cell_type": "code",
      "execution_count": null,
      "id": "45a3a881",
      "metadata": {
        "execution": {
          "iopub.execute_input": "2022-04-04T13:34:40.430529Z",
          "iopub.status.busy": "2022-04-04T13:34:40.429236Z",
          "iopub.status.idle": "2022-04-04T13:34:41.469814Z",
          "shell.execute_reply": "2022-04-04T13:34:41.470252Z",
          "shell.execute_reply.started": "2022-04-04T12:27:09.559508Z"
        },
        "papermill": {
          "duration": 1.062357,
          "end_time": "2022-04-04T13:34:41.470397",
          "exception": false,
          "start_time": "2022-04-04T13:34:40.408040",
          "status": "completed"
        },
        "tags": [],
        "id": "45a3a881",
        "outputId": "c2226309-4940-49aa-af25-ff7227dad79b"
      },
      "outputs": [
        {
          "data": {
            "text/plain": [
              "('./logs_cnn/cnn_ckp.pt', <http.client.HTTPMessage at 0x7fc808759710>)"
            ]
          },
          "execution_count": 2,
          "metadata": {},
          "output_type": "execute_result"
        }
      ],
      "source": [
        "# make the directory\n",
        "%mkdir logs_cnn\n",
        "\n",
        "from urllib import request\n",
        "#download the model from google drive\n",
        "remote_url = 'https://docs.google.com/uc?export=download&id=1hJAl5nVsKolfiBHTh4pcNWAcDFlbV0mG'\n",
        "local_file = './logs_cnn/cnn_ckp.pt'\n",
        "request.urlretrieve(remote_url, local_file)   \n",
        "# if the model is trained again, the downloaded file will be overwritten"
      ]
    },
    {
      "cell_type": "code",
      "execution_count": null,
      "id": "c38efc59",
      "metadata": {
        "execution": {
          "iopub.execute_input": "2022-04-04T13:34:41.509016Z",
          "iopub.status.busy": "2022-04-04T13:34:41.508261Z",
          "iopub.status.idle": "2022-04-04T13:34:43.729665Z",
          "shell.execute_reply": "2022-04-04T13:34:43.730104Z",
          "shell.execute_reply.started": "2022-04-04T13:22:02.296431Z"
        },
        "papermill": {
          "duration": 2.242008,
          "end_time": "2022-04-04T13:34:43.730280",
          "exception": false,
          "start_time": "2022-04-04T13:34:41.488272",
          "status": "completed"
        },
        "tags": [],
        "id": "c38efc59"
      },
      "outputs": [],
      "source": [
        "import pickle\n",
        "import numpy as np\n",
        "\n",
        "# for reading and displaying images\n",
        "from PIL import Image\n",
        "from skimage.io import imread\n",
        "import matplotlib.pyplot as plt\n",
        "%matplotlib inline\n",
        "\n",
        "import torch\n",
        "from torch import Tensor\n",
        "import torch.utils.data as data\n",
        "import torch.nn as nn\n",
        "import torch.nn.functional as F\n",
        "import torch.optim as optim\n",
        "from torchvision import transforms\n",
        "from torch.nn.modules.activation import ReLU"
      ]
    },
    {
      "cell_type": "code",
      "execution_count": null,
      "id": "6cf9fb2d",
      "metadata": {
        "execution": {
          "iopub.execute_input": "2022-04-04T13:34:43.771029Z",
          "iopub.status.busy": "2022-04-04T13:34:43.770303Z",
          "iopub.status.idle": "2022-04-04T13:34:44.433889Z",
          "shell.execute_reply": "2022-04-04T13:34:44.434314Z",
          "shell.execute_reply.started": "2022-04-04T13:29:24.758971Z"
        },
        "papermill": {
          "duration": 0.686199,
          "end_time": "2022-04-04T13:34:44.434467",
          "exception": false,
          "start_time": "2022-04-04T13:34:43.748268",
          "status": "completed"
        },
        "tags": [],
        "id": "6cf9fb2d",
        "outputId": "f9a364e6-0413-4116-b762-e996791e1b7a"
      },
      "outputs": [
        {
          "name": "stdout",
          "output_type": "stream",
          "text": [
            "mkdir: cannot create directory ‘logs_cnn’: File exists\r\n"
          ]
        },
        {
          "data": {
            "text/plain": [
              "<torch._C.Generator at 0x7fc7eaad5fd0>"
            ]
          },
          "execution_count": 4,
          "metadata": {},
          "output_type": "execute_result"
        }
      ],
      "source": [
        "# make the directory\n",
        "%mkdir logs_cnn\n",
        "\n",
        "# setting the random seed for pytorch\n",
        "torch.manual_seed(1) # ID - 21CS60R01 "
      ]
    },
    {
      "cell_type": "code",
      "execution_count": null,
      "id": "4ccfea0f",
      "metadata": {
        "execution": {
          "iopub.execute_input": "2022-04-04T13:34:44.476791Z",
          "iopub.status.busy": "2022-04-04T13:34:44.476102Z",
          "iopub.status.idle": "2022-04-04T13:34:54.900222Z",
          "shell.execute_reply": "2022-04-04T13:34:54.900805Z",
          "shell.execute_reply.started": "2022-04-04T13:29:28.759400Z"
        },
        "papermill": {
          "duration": 10.447625,
          "end_time": "2022-04-04T13:34:54.901010",
          "exception": false,
          "start_time": "2022-04-04T13:34:44.453385",
          "status": "completed"
        },
        "tags": [],
        "id": "4ccfea0f",
        "outputId": "d18a6e8f-2ff9-408d-d673-45f22ca7b38f"
      },
      "outputs": [
        {
          "name": "stdout",
          "output_type": "stream",
          "text": [
            "18792 2808 5400\n",
            "(3, 64, 64) 7\n"
          ]
        }
      ],
      "source": [
        "# opening the pickled file\n",
        "with open(\"/kaggle/input/ml-assignment-cl-ii-lab/euroSAT_train_val_test.pkl\", 'rb') as f:\n",
        "  train_set, val_set, test_set = pickle.load(f)\n",
        "  print (len(train_set), len(val_set), len(test_set)) # 18792 2808 5400\n",
        "  print (train_set[0][0].shape, train_set[0][1]) # (3, 64, 64) 7"
      ]
    },
    {
      "cell_type": "code",
      "execution_count": null,
      "id": "29e78d76",
      "metadata": {
        "execution": {
          "iopub.execute_input": "2022-04-04T13:34:54.945110Z",
          "iopub.status.busy": "2022-04-04T13:34:54.944297Z",
          "iopub.status.idle": "2022-04-04T13:34:54.946926Z",
          "shell.execute_reply": "2022-04-04T13:34:54.946481Z",
          "shell.execute_reply.started": "2022-04-04T13:29:32.371385Z"
        },
        "papermill": {
          "duration": 0.026434,
          "end_time": "2022-04-04T13:34:54.947073",
          "exception": false,
          "start_time": "2022-04-04T13:34:54.920639",
          "status": "completed"
        },
        "tags": [],
        "id": "29e78d76"
      },
      "outputs": [],
      "source": [
        "# creating data loader\n",
        "train_loader = data.DataLoader(train_set, batch_size=64, shuffle=True)\n",
        "val_loader = data.DataLoader(val_set, batch_size=64, shuffle=True)\n",
        "test_loader = data.DataLoader(test_set, batch_size=64, shuffle=False)"
      ]
    },
    {
      "cell_type": "markdown",
      "id": "21e0fc0e",
      "metadata": {
        "papermill": {
          "duration": 0.019113,
          "end_time": "2022-04-04T13:34:54.984967",
          "exception": false,
          "start_time": "2022-04-04T13:34:54.965854",
          "status": "completed"
        },
        "tags": [],
        "id": "21e0fc0e"
      },
      "source": [
        "# **TASK 1:**"
      ]
    },
    {
      "cell_type": "code",
      "execution_count": null,
      "id": "b2a9ce61",
      "metadata": {
        "execution": {
          "iopub.execute_input": "2022-04-04T13:34:55.095202Z",
          "iopub.status.busy": "2022-04-04T13:34:55.092847Z",
          "iopub.status.idle": "2022-04-04T13:34:57.919664Z",
          "shell.execute_reply": "2022-04-04T13:34:57.919157Z",
          "shell.execute_reply.started": "2022-04-04T13:29:34.174825Z"
        },
        "papermill": {
          "duration": 2.916277,
          "end_time": "2022-04-04T13:34:57.919835",
          "exception": false,
          "start_time": "2022-04-04T13:34:55.003558",
          "status": "completed"
        },
        "tags": [],
        "id": "b2a9ce61"
      },
      "outputs": [],
      "source": [
        "#========= CNN Class ====================\n",
        "\n",
        "class conv_NN(nn.Module):\n",
        "    def __init__(self):\n",
        "      super(conv_NN, self).__init__() #run the init of parent class\n",
        "\n",
        "      self.cnn_layers = nn.Sequential(\n",
        "        # input(3*64*64) | conv1 layer | conv1_ouptut(64*32*32) | relu | max_pool | max_pool_output(64*16*16)\n",
        "        nn.Conv2d(in_channels=3,out_channels=64,kernel_size=3,stride=2,padding=1,bias=False),\n",
        "        nn.ReLU(),\n",
        "        nn.MaxPool2d(kernel_size = 2),\n",
        "\n",
        "        #input(64*16*16) | conv2_layer | conv2_output(96*16*16) | relu | max_pool | max_pool_output(96*8*8) \n",
        "        nn.Conv2d(in_channels=64,out_channels=96,kernel_size=3,padding=1,bias=False),\n",
        "        nn.ReLU(),\n",
        "        nn.MaxPool2d(kernel_size = 2),\n",
        "\n",
        "        #input(96*8*8) | conv2_layer | conv2_output(192*8*8) | relu | max_pool | max_pool_output(192*4*4)\n",
        "        nn.Conv2d(in_channels=96,out_channels=192,kernel_size=3,padding=1,bias=False),\n",
        "        nn.ReLU(),\n",
        "        nn.MaxPool2d(kernel_size = 2)\n",
        "      )\n",
        "\n",
        "      self.fc1 = nn.Linear(192*4*4,1024)\n",
        "      self.fc2 = nn.Linear(1024,512)\n",
        "      self.fc3 = nn.Linear(512,10)\n",
        "      \n",
        "      # Define proportion of neurons to dropout\n",
        "      self.dropout = nn.Dropout(0.5)\n",
        "\n",
        "\n",
        "    def forward(self,x):\n",
        "      x = self.cnn_layers(x)\n",
        "      x = x.view(-1,192*4*4)\n",
        "      x = F.relu(self.fc1(x))\n",
        "      x = self.dropout(x)\n",
        "      x = F.relu(self.fc2(x))\n",
        "      x = self.fc3(x)\n",
        "      return x\n",
        "\n",
        "\n",
        "device = \"cpu\"\n",
        "if (torch.cuda.is_available()):\n",
        "    # if GPU available, use cuda (on a cpu, training will take a considerable length of time!)\n",
        "    device = \"cuda\"\n",
        "  \n",
        "# Create an instance of the CNN class and allocate it to the device\n",
        "model = conv_NN().to(device)\n",
        "# print(model)"
      ]
    },
    {
      "cell_type": "code",
      "execution_count": null,
      "id": "a781fcdd",
      "metadata": {
        "execution": {
          "iopub.execute_input": "2022-04-04T13:34:58.076890Z",
          "iopub.status.busy": "2022-04-04T13:34:58.075377Z",
          "iopub.status.idle": "2022-04-04T13:34:58.077494Z",
          "shell.execute_reply": "2022-04-04T13:34:58.077890Z",
          "shell.execute_reply.started": "2022-04-04T13:29:40.193876Z"
        },
        "papermill": {
          "duration": 0.035402,
          "end_time": "2022-04-04T13:34:58.078024",
          "exception": false,
          "start_time": "2022-04-04T13:34:58.042622",
          "status": "completed"
        },
        "tags": [],
        "id": "a781fcdd"
      },
      "outputs": [],
      "source": [
        "# helper function to train the model\n",
        "def train(model, device, train_loader,val_loader,loss_criteria,optimizer, epoch):\n",
        "  \n",
        "  train_loss = 0\n",
        "  train_total = 0\n",
        "  train_correct = 0\n",
        "\n",
        "  model.train()\n",
        "  # Process the images in batches\n",
        "  for batch_idx, (data, target) in enumerate(train_loader):\n",
        "      \n",
        "    # Load the input features and labels from the dataset\n",
        "    data, target = data.to(device), target.to(device)\n",
        "    \n",
        "    # Reset the optimizer\n",
        "    optimizer.zero_grad()\n",
        "    \n",
        "    # Forward pass: Pass image data from training dataset, make predictions about class image\n",
        "    output = model(data)\n",
        "    \n",
        "    # Get the loss\n",
        "    loss = loss_criteria(output, target)\n",
        "\n",
        "    # Keep a running total\n",
        "    train_loss += loss.item()\n",
        "\n",
        "    # scores, predictions = torch.max(output.data, 1)\n",
        "    train_total += target.size(0)\n",
        "    train_correct += torch.sum(torch.argmax(output, dim=1) == target)\n",
        "    # train_correct += int(sum(predictions == target))\n",
        "  \n",
        "    # Backpropagate\n",
        "    loss.backward()\n",
        "\n",
        "    # Update the neural network weights\n",
        "    optimizer.step()\n",
        "            \n",
        "  train_acc = round((train_correct.item() / len(train_loader.dataset)) * 100, 4)\n",
        "  print('Epoch [{}], train_loss: {}, train_accuracy: {}'.format(epoch, train_loss/train_total, train_acc), end='')\n",
        "  print('\\n')\n",
        "\n",
        "  val_loss = 0\n",
        "  val_correct = 0\n",
        "  val_total = 0\n",
        "\n",
        "  model.eval()\n",
        "\n",
        "  # Process the images in batches\n",
        "  for batch_idx, (data, target) in enumerate(val_loader):\n",
        "\n",
        "    # Load the input features and labels from the dataset\n",
        "    data, target = data.to(device), target.to(device)\n",
        "\n",
        "    # Forward pass: Pass image data from training dataset, make predictions about class image\n",
        "    output = model(data)\n",
        "\n",
        "    # Get the loss\n",
        "    loss = loss_criteria(output, target)\n",
        "\n",
        "    # Keep a running total\n",
        "    val_loss += loss.item()\n",
        "\n",
        "    val_total += target.size(0)\n",
        "    val_correct += torch.sum(torch.argmax(output, dim=1) == target)\n",
        "\n",
        "  val_acc = round((val_correct.item() / len(val_loader.dataset)) * 100, 4)\n",
        "  print('Epoch [{}], val_loss: {}, val_accuracy: {}'.format(epoch, val_loss/val_total, val_acc), end='')\n",
        "  print('\\n')\n",
        "  return train_loss,train_acc,val_loss,val_acc"
      ]
    },
    {
      "cell_type": "code",
      "execution_count": null,
      "id": "096a226d",
      "metadata": {
        "execution": {
          "iopub.execute_input": "2022-04-04T13:34:58.120040Z",
          "iopub.status.busy": "2022-04-04T13:34:58.119254Z",
          "iopub.status.idle": "2022-04-04T13:34:58.121740Z",
          "shell.execute_reply": "2022-04-04T13:34:58.121330Z",
          "shell.execute_reply.started": "2022-04-04T13:29:42.288218Z"
        },
        "papermill": {
          "duration": 0.025267,
          "end_time": "2022-04-04T13:34:58.121832",
          "exception": false,
          "start_time": "2022-04-04T13:34:58.096565",
          "status": "completed"
        },
        "tags": [],
        "id": "096a226d"
      },
      "outputs": [],
      "source": [
        "# Use an \"Adam\" optimizer to adjust weights\n",
        "optimizer = optim.Adam(model.parameters(), lr=0.0001)\n",
        "\n",
        "# Specify the loss criteria\n",
        "loss_criteria = nn.CrossEntropyLoss()"
      ]
    },
    {
      "cell_type": "markdown",
      "id": "7514fbba",
      "metadata": {
        "papermill": {
          "duration": 0.018493,
          "end_time": "2022-04-04T13:34:58.158792",
          "exception": false,
          "start_time": "2022-04-04T13:34:58.140299",
          "status": "completed"
        },
        "tags": [],
        "id": "7514fbba"
      },
      "source": [
        "# If you don't want to train the model again, don't run the below cell"
      ]
    },
    {
      "cell_type": "code",
      "execution_count": null,
      "id": "53d74d09",
      "metadata": {
        "execution": {
          "iopub.execute_input": "2022-04-04T13:34:58.204202Z",
          "iopub.status.busy": "2022-04-04T13:34:58.203581Z",
          "iopub.status.idle": "2022-04-04T13:37:51.248051Z",
          "shell.execute_reply": "2022-04-04T13:37:51.248620Z",
          "shell.execute_reply.started": "2022-04-04T13:29:45.076937Z"
        },
        "papermill": {
          "duration": 173.071262,
          "end_time": "2022-04-04T13:37:51.248782",
          "exception": false,
          "start_time": "2022-04-04T13:34:58.177520",
          "status": "completed"
        },
        "tags": [],
        "id": "53d74d09",
        "outputId": "1df4825c-4d94-4d58-b42b-a4f03d78b1c6"
      },
      "outputs": [
        {
          "name": "stdout",
          "output_type": "stream",
          "text": [
            "Epoch [1], train_loss: 0.02799632642917706, train_accuracy: 28.4163\n",
            "\n",
            "Epoch [1], val_loss: 0.022688761438399638, val_accuracy: 46.047\n",
            "\n",
            "Epoch [2], train_loss: 0.020534842080413254, train_accuracy: 48.9943\n",
            "\n",
            "Epoch [2], val_loss: 0.018476839567351546, val_accuracy: 56.7664\n",
            "\n",
            "Epoch [3], train_loss: 0.017925844760512535, train_accuracy: 56.8487\n",
            "\n",
            "Epoch [3], val_loss: 0.01646646751128031, val_accuracy: 60.755\n",
            "\n",
            "Epoch [4], train_loss: 0.016605192655043278, train_accuracy: 60.3927\n",
            "\n",
            "Epoch [4], val_loss: 0.015117064861320702, val_accuracy: 64.4943\n",
            "\n",
            "Epoch [5], train_loss: 0.01549016281791117, train_accuracy: 63.2876\n",
            "\n",
            "Epoch [5], val_loss: 0.014042673266341543, val_accuracy: 68.3761\n",
            "\n",
            "Epoch [6], train_loss: 0.014277174320308235, train_accuracy: 66.5549\n",
            "\n",
            "Epoch [6], val_loss: 0.01383992301517742, val_accuracy: 68.4117\n",
            "\n",
            "Epoch [7], train_loss: 0.013632167087889266, train_accuracy: 68.2737\n",
            "\n",
            "Epoch [7], val_loss: 0.012544489823854886, val_accuracy: 70.4416\n",
            "\n",
            "Epoch [8], train_loss: 0.013026829832738996, train_accuracy: 69.8382\n",
            "\n",
            "Epoch [8], val_loss: 0.012296629045423958, val_accuracy: 71.3319\n",
            "\n",
            "Epoch [9], train_loss: 0.012839153294819067, train_accuracy: 69.8808\n",
            "\n",
            "Epoch [9], val_loss: 0.013053780097907086, val_accuracy: 70.8333\n",
            "\n",
            "Epoch [10], train_loss: 0.012252182535995266, train_accuracy: 71.2324\n",
            "\n",
            "Epoch [10], val_loss: 0.012516668973824916, val_accuracy: 69.9786\n",
            "\n",
            "Epoch [11], train_loss: 0.01203658215451007, train_accuracy: 72.3978\n",
            "\n",
            "Epoch [11], val_loss: 0.012242901337961866, val_accuracy: 70.9046\n",
            "\n",
            "Epoch [12], train_loss: 0.011641630611872867, train_accuracy: 72.9513\n",
            "\n",
            "Epoch [12], val_loss: 0.010872283106685704, val_accuracy: 74.537\n",
            "\n",
            "Epoch [13], train_loss: 0.011225795926008392, train_accuracy: 73.9464\n",
            "\n",
            "Epoch [13], val_loss: 0.01105552094529497, val_accuracy: 73.433\n",
            "\n",
            "Epoch [14], train_loss: 0.011205004825522008, train_accuracy: 73.7441\n",
            "\n",
            "Epoch [14], val_loss: 0.01074069037906125, val_accuracy: 74.359\n",
            "\n",
            "Epoch [15], train_loss: 0.010809781330349396, train_accuracy: 74.8776\n",
            "\n",
            "Epoch [15], val_loss: 0.010484617967636157, val_accuracy: 75.6054\n",
            "\n",
            "Epoch [16], train_loss: 0.010510776919880133, train_accuracy: 75.9525\n",
            "\n",
            "Epoch [16], val_loss: 0.010333177041888577, val_accuracy: 75.7835\n",
            "\n",
            "Epoch [17], train_loss: 0.010377845652766206, train_accuracy: 76.325\n",
            "\n",
            "Epoch [17], val_loss: 0.010046761865035081, val_accuracy: 76.6738\n",
            "\n",
            "Epoch [18], train_loss: 0.01027675865241039, train_accuracy: 76.2399\n",
            "\n",
            "Epoch [18], val_loss: 0.010670189058508969, val_accuracy: 75.1068\n",
            "\n",
            "Epoch [19], train_loss: 0.010086543851707682, train_accuracy: 76.3995\n",
            "\n",
            "Epoch [19], val_loss: 0.009775469562521687, val_accuracy: 77.4929\n",
            "\n",
            "Epoch [20], train_loss: 0.009701036831872317, train_accuracy: 77.9587\n",
            "\n",
            "Epoch [20], val_loss: 0.0095417395849683, val_accuracy: 78.3476\n",
            "\n",
            "Epoch [21], train_loss: 0.00990278097785448, train_accuracy: 77.4851\n",
            "\n",
            "Epoch [21], val_loss: 0.009450478665000013, val_accuracy: 78.0627\n",
            "\n",
            "Epoch [22], train_loss: 0.009633030226987796, train_accuracy: 77.9481\n",
            "\n",
            "Epoch [22], val_loss: 0.00930096888304436, val_accuracy: 78.5256\n",
            "\n",
            "Epoch [23], train_loss: 0.009444275603694274, train_accuracy: 78.4696\n",
            "\n",
            "Epoch [23], val_loss: 0.008995712684345382, val_accuracy: 78.8462\n",
            "\n",
            "Epoch [24], train_loss: 0.009201311485317729, train_accuracy: 78.9059\n",
            "\n",
            "Epoch [24], val_loss: 0.009030246932027686, val_accuracy: 79.3803\n",
            "\n",
            "Epoch [25], train_loss: 0.0091611140979737, train_accuracy: 79.2891\n",
            "\n",
            "Epoch [25], val_loss: 0.008768881212102722, val_accuracy: 79.7009\n",
            "\n",
            "Epoch [26], train_loss: 0.008912328370597425, train_accuracy: 79.9596\n",
            "\n",
            "Epoch [26], val_loss: 0.008890624038684063, val_accuracy: 79.7365\n",
            "\n",
            "Epoch [27], train_loss: 0.008758546745665483, train_accuracy: 80.0819\n",
            "\n",
            "Epoch [27], val_loss: 0.008535601814248284, val_accuracy: 79.6652\n",
            "\n",
            "Epoch [28], train_loss: 0.008517860795346256, train_accuracy: 80.6407\n",
            "\n",
            "Epoch [28], val_loss: 0.008260661762664122, val_accuracy: 80.7692\n",
            "\n",
            "Epoch [29], train_loss: 0.00854714333427465, train_accuracy: 80.5609\n",
            "\n",
            "Epoch [29], val_loss: 0.01072944704963271, val_accuracy: 76.2108\n",
            "\n",
            "Epoch [30], train_loss: 0.008285641836747052, train_accuracy: 81.3272\n",
            "\n",
            "Epoch [30], val_loss: 0.010399905205876738, val_accuracy: 74.9644\n",
            "\n",
            "Epoch [31], train_loss: 0.008109095436986733, train_accuracy: 81.5453\n",
            "\n",
            "Epoch [31], val_loss: 0.008294207216412932, val_accuracy: 81.8376\n",
            "\n",
            "Epoch [32], train_loss: 0.008157332081675987, train_accuracy: 81.6358\n",
            "\n",
            "Epoch [32], val_loss: 0.00853198349603221, val_accuracy: 80.9473\n",
            "\n",
            "Epoch [33], train_loss: 0.007917147657880381, train_accuracy: 82.2797\n",
            "\n",
            "Epoch [33], val_loss: 0.007693020064394359, val_accuracy: 82.0157\n",
            "\n",
            "Epoch [34], train_loss: 0.007800372969240217, train_accuracy: 82.2318\n",
            "\n",
            "Epoch [34], val_loss: 0.008991518251576654, val_accuracy: 79.7009\n",
            "\n",
            "Epoch [35], train_loss: 0.007678140867493567, train_accuracy: 82.7905\n",
            "\n",
            "Epoch [35], val_loss: 0.007808556796139122, val_accuracy: 82.8348\n",
            "\n",
            "Epoch [36], train_loss: 0.007358792686352023, train_accuracy: 83.5089\n",
            "\n",
            "Epoch [36], val_loss: 0.00765932211254397, val_accuracy: 82.6211\n",
            "\n",
            "Epoch [37], train_loss: 0.007333371226060081, train_accuracy: 83.3227\n",
            "\n",
            "Epoch [37], val_loss: 0.007661939203272178, val_accuracy: 82.3718\n",
            "\n",
            "Epoch [38], train_loss: 0.007069824250766245, train_accuracy: 84.0145\n",
            "\n",
            "Epoch [38], val_loss: 0.007529586325386311, val_accuracy: 83.6895\n",
            "\n",
            "Epoch [39], train_loss: 0.006920178707493981, train_accuracy: 84.3976\n",
            "\n",
            "Epoch [39], val_loss: 0.007123261228458494, val_accuracy: 84.1168\n",
            "\n",
            "Epoch [40], train_loss: 0.006636122131395868, train_accuracy: 85.1799\n",
            "\n",
            "Epoch [40], val_loss: 0.008014824665934272, val_accuracy: 81.8376\n",
            "\n",
            "Epoch [41], train_loss: 0.0069459808864279875, train_accuracy: 84.4242\n",
            "\n",
            "Epoch [41], val_loss: 0.008093770720765121, val_accuracy: 81.6239\n",
            "\n",
            "Epoch [42], train_loss: 0.00654845626088293, train_accuracy: 85.1852\n",
            "\n",
            "Epoch [42], val_loss: 0.006971410674671842, val_accuracy: 84.4017\n",
            "\n",
            "Epoch [43], train_loss: 0.006513457430511548, train_accuracy: 85.3555\n",
            "\n",
            "Epoch [43], val_loss: 0.006901727474567897, val_accuracy: 84.188\n",
            "\n",
            "Epoch [44], train_loss: 0.006360810559295299, train_accuracy: 85.728\n",
            "\n",
            "Epoch [44], val_loss: 0.006744798888423165, val_accuracy: 85.0071\n",
            "\n",
            "Epoch [45], train_loss: 0.006176148650302639, train_accuracy: 86.1856\n",
            "\n",
            "Epoch [45], val_loss: 0.009363041813896592, val_accuracy: 80.1282\n",
            "\n",
            "Epoch [46], train_loss: 0.005991382720230386, train_accuracy: 86.5421\n",
            "\n",
            "Epoch [46], val_loss: 0.007248153405906128, val_accuracy: 84.651\n",
            "\n",
            "Epoch [47], train_loss: 0.00594475311248949, train_accuracy: 86.5155\n",
            "\n",
            "Epoch [47], val_loss: 0.006617605824161459, val_accuracy: 85.5769\n",
            "\n",
            "Epoch [48], train_loss: 0.005664721106743244, train_accuracy: 87.2552\n",
            "\n",
            "Epoch [48], val_loss: 0.006750750968344191, val_accuracy: 85.4701\n",
            "\n",
            "Epoch [49], train_loss: 0.005583333494613505, train_accuracy: 87.2765\n",
            "\n",
            "Epoch [49], val_loss: 0.006228490300115697, val_accuracy: 86.0399\n",
            "\n",
            "Epoch [50], train_loss: 0.005441185008463275, train_accuracy: 87.7182\n",
            "\n",
            "Epoch [50], val_loss: 0.006229576758212513, val_accuracy: 86.2536\n",
            "\n",
            "Epoch [51], train_loss: 0.0053727383824067705, train_accuracy: 87.9417\n",
            "\n",
            "Epoch [51], val_loss: 0.006479211332027049, val_accuracy: 85.6481\n",
            "\n",
            "Epoch [52], train_loss: 0.005460493256670584, train_accuracy: 87.6969\n",
            "\n",
            "Epoch [52], val_loss: 0.005915886820678697, val_accuracy: 87.037\n",
            "\n",
            "Epoch [53], train_loss: 0.005103175171122443, train_accuracy: 88.3993\n",
            "\n",
            "Epoch [53], val_loss: 0.005873079366578675, val_accuracy: 87.1795\n",
            "\n",
            "Epoch [54], train_loss: 0.0048900165560620806, train_accuracy: 88.974\n",
            "\n",
            "Epoch [54], val_loss: 0.0062247359238968274, val_accuracy: 86.6097\n",
            "\n",
            "Epoch [55], train_loss: 0.004911631417907568, train_accuracy: 88.8463\n",
            "\n",
            "Epoch [55], val_loss: 0.006314254299527899, val_accuracy: 85.6481\n",
            "\n",
            "Epoch [56], train_loss: 0.00485073425995385, train_accuracy: 89.139\n",
            "\n",
            "Epoch [56], val_loss: 0.005776305818277546, val_accuracy: 87.8561\n",
            "\n",
            "Epoch [57], train_loss: 0.004524704349207822, train_accuracy: 89.8042\n",
            "\n",
            "Epoch [57], val_loss: 0.0059090464819021036, val_accuracy: 87.2507\n",
            "\n",
            "Epoch [58], train_loss: 0.004729129887860397, train_accuracy: 89.1656\n",
            "\n",
            "Epoch [58], val_loss: 0.005769465452967546, val_accuracy: 87.5356\n",
            "\n",
            "Epoch [59], train_loss: 0.004512770892398035, train_accuracy: 89.9479\n",
            "\n",
            "Epoch [59], val_loss: 0.005638782948552713, val_accuracy: 87.9986\n",
            "\n",
            "Epoch [60], train_loss: 0.004270716879172699, train_accuracy: 90.2458\n",
            "\n",
            "Epoch [60], val_loss: 0.005929947775016483, val_accuracy: 87.6781\n",
            "\n",
            "Epoch [61], train_loss: 0.004341062172619319, train_accuracy: 90.0968\n",
            "\n",
            "Epoch [61], val_loss: 0.006042589242450702, val_accuracy: 86.9302\n",
            "\n",
            "Epoch [62], train_loss: 0.004006869071621167, train_accuracy: 91.0653\n",
            "\n",
            "Epoch [62], val_loss: 0.006276859617938004, val_accuracy: 86.7877\n",
            "\n",
            "Epoch [63], train_loss: 0.003901811697623003, train_accuracy: 91.3793\n",
            "\n",
            "Epoch [63], val_loss: 0.00603342357693914, val_accuracy: 87.0014\n",
            "\n",
            "Epoch [64], train_loss: 0.0037738595486143996, train_accuracy: 91.539\n",
            "\n",
            "Epoch [64], val_loss: 0.005792755198444736, val_accuracy: 88.141\n",
            "\n",
            "Epoch [65], train_loss: 0.003788807877787837, train_accuracy: 91.6028\n",
            "\n",
            "Epoch [65], val_loss: 0.0053799412003651985, val_accuracy: 88.8177\n",
            "\n",
            "Epoch [66], train_loss: 0.0036209233433464934, train_accuracy: 92.0072\n",
            "\n",
            "Epoch [66], val_loss: 0.0054694747292248274, val_accuracy: 88.9245\n",
            "\n",
            "Epoch [67], train_loss: 0.003616213267046614, train_accuracy: 91.8742\n",
            "\n",
            "Epoch [67], val_loss: 0.005290754526811108, val_accuracy: 89.245\n",
            "\n",
            "Epoch [68], train_loss: 0.0033205948760530804, train_accuracy: 92.5021\n",
            "\n",
            "Epoch [68], val_loss: 0.0057115481205900175, val_accuracy: 88.8177\n",
            "\n",
            "Epoch [69], train_loss: 0.00337037689097324, train_accuracy: 92.3851\n",
            "\n",
            "Epoch [69], val_loss: 0.0055830032668179935, val_accuracy: 89.067\n",
            "\n",
            "Epoch [70], train_loss: 0.003206692817400889, train_accuracy: 92.8587\n",
            "\n",
            "Epoch [70], val_loss: 0.005737679588616404, val_accuracy: 88.3903\n",
            "\n",
            "Epoch [71], train_loss: 0.0031836945587343335, train_accuracy: 92.9757\n",
            "\n",
            "Epoch [71], val_loss: 0.0054565604770837346, val_accuracy: 88.9245\n",
            "\n",
            "Epoch [72], train_loss: 0.0030264460131614805, train_accuracy: 93.2152\n",
            "\n",
            "Epoch [72], val_loss: 0.0053901886806274075, val_accuracy: 89.2806\n",
            "\n",
            "Epoch [73], train_loss: 0.002889185518037453, train_accuracy: 93.5664\n",
            "\n",
            "Epoch [73], val_loss: 0.006533544951057502, val_accuracy: 87.3932\n",
            "\n",
            "Epoch [74], train_loss: 0.002928783683555907, train_accuracy: 93.3589\n",
            "\n",
            "Epoch [74], val_loss: 0.0054833016589156585, val_accuracy: 89.708\n",
            "\n",
            "Epoch [75], train_loss: 0.0028845679005802234, train_accuracy: 93.5026\n",
            "\n",
            "Epoch [75], val_loss: 0.005495803313929471, val_accuracy: 89.1738\n",
            "\n",
            "Epoch [76], train_loss: 0.0026698934474128164, train_accuracy: 93.9921\n",
            "\n",
            "Epoch [76], val_loss: 0.005543664888481469, val_accuracy: 89.4943\n",
            "\n",
            "Epoch [77], train_loss: 0.002512451176436062, train_accuracy: 94.4019\n",
            "\n",
            "Epoch [77], val_loss: 0.005603121421127407, val_accuracy: 89.067\n",
            "\n",
            "Epoch [78], train_loss: 0.0025167494136863894, train_accuracy: 94.2954\n",
            "\n",
            "Epoch [78], val_loss: 0.005669042948325645, val_accuracy: 88.604\n",
            "\n",
            "Early stopping at epoch 78\n"
          ]
        }
      ],
      "source": [
        "# Track metrics in these arrays\n",
        "epoch_nums = []\n",
        "training_loss = []\n",
        "validation_loss = []\n",
        "training_acc= []\n",
        "validation_acc= []\n",
        "val_loss_min = np.Inf\n",
        "best_epoch = 0\n",
        "patience = 10\n",
        "\n",
        "\n",
        "epochs = 150\n",
        "for epoch in range(1, epochs + 1):\n",
        "    train_loss,train_acc,val_loss,val_acc = train(model, device, train_loader,val_loader,loss_criteria, optimizer, epoch)\n",
        "    epoch_nums.append(epoch)\n",
        "    training_loss.append(train_loss)\n",
        "    training_acc.append(train_acc)\n",
        "    validation_loss.append(val_loss)\n",
        "    validation_acc.append(val_acc)\n",
        "    \n",
        "    \n",
        "    # saving the model with the least validation loss\n",
        "    if validation_loss[-1]<= val_loss_min:\n",
        "        # TASK_1 : Deliverable (1)\n",
        "        checkpoint_path = 'logs_cnn/cnn_ckp.pt'\n",
        "        val_loss_min = validation_loss[-1]\n",
        "        best_epoch = epoch\n",
        "        torch.save(model.state_dict(),checkpoint_path)\n",
        "#         save_ckp(checkpoint, checkpoint_path)\n",
        "\n",
        "    #applying the early stopping principle  \n",
        "    if (epoch - best_epoch) > patience:\n",
        "      print('Early stopping at epoch {}'.format(epoch))\n",
        "      break\n"
      ]
    },
    {
      "cell_type": "code",
      "execution_count": null,
      "id": "67442f24",
      "metadata": {
        "execution": {
          "iopub.execute_input": "2022-04-04T13:37:51.345458Z",
          "iopub.status.busy": "2022-04-04T13:37:51.344410Z",
          "iopub.status.idle": "2022-04-04T13:37:51.358031Z",
          "shell.execute_reply": "2022-04-04T13:37:51.358616Z",
          "shell.execute_reply.started": "2022-04-04T13:32:44.845056Z"
        },
        "papermill": {
          "duration": 0.064336,
          "end_time": "2022-04-04T13:37:51.358805",
          "exception": false,
          "start_time": "2022-04-04T13:37:51.294469",
          "status": "completed"
        },
        "tags": [],
        "id": "67442f24"
      },
      "outputs": [],
      "source": [
        "# # load the saved checkpoint for best model\n",
        "ckp_path = \"logs_cnn/cnn_ckp.pt\"\n",
        "model.load_state_dict(torch.load(ckp_path))"
      ]
    },
    {
      "cell_type": "code",
      "execution_count": null,
      "id": "8ea2098f",
      "metadata": {
        "execution": {
          "iopub.execute_input": "2022-04-04T13:37:51.456028Z",
          "iopub.status.busy": "2022-04-04T13:37:51.453602Z",
          "iopub.status.idle": "2022-04-04T13:37:51.952142Z",
          "shell.execute_reply": "2022-04-04T13:37:51.951539Z",
          "shell.execute_reply.started": "2022-04-04T13:32:52.893173Z"
        },
        "papermill": {
          "duration": 0.549052,
          "end_time": "2022-04-04T13:37:51.952324",
          "exception": false,
          "start_time": "2022-04-04T13:37:51.403272",
          "status": "completed"
        },
        "tags": [],
        "id": "8ea2098f",
        "outputId": "61074166-545e-4ece-9579-2d5b0b279660"
      },
      "outputs": [
        {
          "name": "stdout",
          "output_type": "stream",
          "text": [
            "Accuracy of the model on the validation set: 89.245014 %\n",
            "Accuracy of the model on the test set: 87.722222 %\n"
          ]
        }
      ],
      "source": [
        "model.eval()\n",
        "correct = 0\n",
        "total = 0\n",
        "\n",
        "with torch.no_grad():\n",
        "    for images, labels in val_loader:\n",
        "        images = images.to(device)\n",
        "        labels = labels.to(device)\n",
        "        output = model(images)\n",
        "        _, predicted = torch.max(output.data, 1)\n",
        "        total += labels.size(0)\n",
        "        correct += (predicted == labels).sum().item()\n",
        "print('Accuracy of the model on the validation set: %f %%' %\n",
        "      (100 * correct / total))\n",
        "\n",
        "\n",
        "# accuracy on test set\n",
        "correct = 0\n",
        "total = 0\n",
        "predicted_list = []\n",
        "t_labels = []\n",
        "with torch.no_grad():\n",
        "    for images, labels in test_loader:\n",
        "        images = images.to(device)\n",
        "        labels = labels.to(device)\n",
        "        output = model(images)\n",
        "        _, predicted = torch.max(output.data, 1)\n",
        "        t_labels.append(labels)\n",
        "        predicted_list.append(predicted)\n",
        "        total += labels.size(0)\n",
        "        correct += (predicted == labels).sum().item()\n",
        "print('Accuracy of the model on the test set: %f %%' %\n",
        "      (100 * correct / total))"
      ]
    },
    {
      "cell_type": "markdown",
      "source": [
        "# "
      ],
      "metadata": {
        "id": "jkScwhwIhBFB"
      },
      "id": "jkScwhwIhBFB"
    },
    {
      "cell_type": "code",
      "execution_count": null,
      "id": "8ad0fe36",
      "metadata": {
        "execution": {
          "iopub.execute_input": "2022-04-04T13:37:52.054430Z",
          "iopub.status.busy": "2022-04-04T13:37:52.053621Z",
          "iopub.status.idle": "2022-04-04T13:37:52.349271Z",
          "shell.execute_reply": "2022-04-04T13:37:52.348803Z",
          "shell.execute_reply.started": "2022-04-04T13:32:58.715652Z"
        },
        "papermill": {
          "duration": 0.352126,
          "end_time": "2022-04-04T13:37:52.349400",
          "exception": false,
          "start_time": "2022-04-04T13:37:51.997274",
          "status": "completed"
        },
        "tags": [],
        "id": "8ad0fe36",
        "outputId": "a51846f2-fe78-429e-e03f-f7bd9fcc6b74"
      },
      "outputs": [
        {
          "data": {
            "image/png": "[encoded data removed]",
            "text/plain": [
              "<Figure size 720x360 with 2 Axes>"
            ]
          },
          "metadata": {
            "needs_background": "light"
          },
          "output_type": "display_data"
        }
      ],
      "source": [
        "# plot loss and accuracy\n",
        "plt.figure(figsize=(10,5))\n",
        "plt.subplot(1,2,1)\n",
        "plt.plot(training_loss, label=\"train loss\")\n",
        "plt.plot(validation_loss, label=\"val loss\")\n",
        "plt.xlabel('Number of Epoch')\n",
        "plt.ylabel('Loss')\n",
        "plt.legend()\n",
        "plt.subplot(1,2,2)\n",
        "plt.plot(training_acc, label=\"train acc\")\n",
        "plt.plot(validation_acc, label=\"val acc\")\n",
        "plt.xlabel('Number of Epoch')\n",
        "plt.ylabel('Loss')\n",
        "plt.legend()\n",
        "plt.show()"
      ]
    },
    {
      "cell_type": "code",
      "execution_count": null,
      "id": "fda2dcb1",
      "metadata": {
        "execution": {
          "iopub.execute_input": "2022-04-04T13:37:52.452228Z",
          "iopub.status.busy": "2022-04-04T13:37:52.451426Z",
          "iopub.status.idle": "2022-04-04T13:37:52.488832Z",
          "shell.execute_reply": "2022-04-04T13:37:52.488379Z",
          "shell.execute_reply.started": "2022-04-04T13:33:04.125797Z"
        },
        "papermill": {
          "duration": 0.094537,
          "end_time": "2022-04-04T13:37:52.488945",
          "exception": false,
          "start_time": "2022-04-04T13:37:52.394408",
          "status": "completed"
        },
        "tags": [],
        "id": "fda2dcb1"
      },
      "outputs": [],
      "source": [
        "# putting the predicted labels in a csv file\n",
        "\n",
        "df=pd.DataFrame(columns=['id','label'])\n",
        "labels = []\n",
        "true_labels =[]\n",
        "for i in range(len(predicted_list)):\n",
        "    temp_arr = predicted_list[i].cpu().detach().numpy()\n",
        "    temp_labels = t_labels[i].cpu().detach().numpy()\n",
        "    for j in temp_arr:\n",
        "        labels.append(j)\n",
        "    for j in temp_labels:\n",
        "        true_labels.append(j)\n",
        "df['label']=labels\n",
        "df['id']=[i for i in range(len(labels))]\n",
        "df.to_csv('predictions_task1.csv',index=False)\n"
      ]
    },
    {
      "cell_type": "code",
      "execution_count": null,
      "id": "b10fa8e5",
      "metadata": {
        "execution": {
          "iopub.execute_input": "2022-04-04T13:37:52.588851Z",
          "iopub.status.busy": "2022-04-04T13:37:52.588297Z",
          "iopub.status.idle": "2022-04-04T13:37:54.598243Z",
          "shell.execute_reply": "2022-04-04T13:37:54.598675Z",
          "shell.execute_reply.started": "2022-04-04T13:33:08.737391Z"
        },
        "papermill": {
          "duration": 2.064462,
          "end_time": "2022-04-04T13:37:54.598828",
          "exception": false,
          "start_time": "2022-04-04T13:37:52.534366",
          "status": "completed"
        },
        "tags": [],
        "id": "b10fa8e5",
        "outputId": "c69136e4-ee62-464c-dc1c-cff52d5e6508"
      },
      "outputs": [
        {
          "data": {
            "image/png": "[encoded data removed]",
            "text/plain": [
              "<Figure size 1008x720 with 2 Axes>"
            ]
          },
          "metadata": {
            "needs_background": "light"
          },
          "output_type": "display_data"
        }
      ],
      "source": [
        "from sklearn.metrics import confusion_matrix,classification_report\n",
        "import seaborn as sn\n",
        "import pandas as pd\n",
        "\n",
        "y_pred = []\n",
        "y_true = []\n",
        "\n",
        "with torch.no_grad():\n",
        "    # iterate over test data\n",
        "    for images, labels in test_loader:\n",
        "        images = images.to(device)\n",
        "        labels = labels.to(device)\n",
        "        output = model(images) # Feed Network\n",
        "\n",
        "        output = (torch.max(torch.exp(output), 1)[1]).data.cpu().numpy()\n",
        "        y_pred.extend(output) # Save Prediction\n",
        "\n",
        "        labels = labels.data.cpu().numpy()\n",
        "        y_true.extend(labels) # Save Truth\n",
        "\n",
        "# constant for classes\n",
        "classes = ('AnnualCrop', 'Forest', 'HerbaceousVegetation', 'Highway', 'Industrial',\n",
        "        'Pasture', 'PermanentCrop', 'Residential', 'River', 'SeaLake')\n",
        "\n",
        "# Build confusion matrix\n",
        "cf_matrix = confusion_matrix(y_true, y_pred)\n",
        "# cf_matrix = confusion_matrix(true_labels, labels)\n",
        "df_cm = pd.DataFrame(cf_matrix, index = [i for i in classes],\n",
        "                     columns = [i for i in classes])\n",
        "plt.figure(figsize = (14,10))\n",
        "sn.heatmap(df_cm, annot=True,fmt='g')\n",
        "plt.savefig('output.png')"
      ]
    },
    {
      "cell_type": "code",
      "execution_count": null,
      "id": "fd8a22d8",
      "metadata": {
        "execution": {
          "iopub.execute_input": "2022-04-04T13:37:54.704300Z",
          "iopub.status.busy": "2022-04-04T13:37:54.703501Z",
          "iopub.status.idle": "2022-04-04T13:37:54.722637Z",
          "shell.execute_reply": "2022-04-04T13:37:54.723276Z",
          "shell.execute_reply.started": "2022-04-04T13:33:15.540950Z"
        },
        "papermill": {
          "duration": 0.074409,
          "end_time": "2022-04-04T13:37:54.723443",
          "exception": false,
          "start_time": "2022-04-04T13:37:54.649034",
          "status": "completed"
        },
        "tags": [],
        "id": "fd8a22d8",
        "outputId": "f4bd9abb-5438-4ce2-df23-5b21ebb2ab33"
      },
      "outputs": [
        {
          "name": "stdout",
          "output_type": "stream",
          "text": [
            "                      precision    recall  f1-score   support\n",
            "\n",
            "          AnnualCrop       0.86      0.89      0.88       600\n",
            "              Forest       0.97      0.95      0.96       600\n",
            "HerbaceousVegetation       0.79      0.87      0.83       600\n",
            "             Highway       0.83      0.79      0.81       500\n",
            "          Industrial       0.92      0.94      0.93       500\n",
            "             Pasture       0.84      0.78      0.81       400\n",
            "       PermanentCrop       0.80      0.77      0.78       500\n",
            "         Residential       0.94      0.96      0.95       600\n",
            "               River       0.83      0.77      0.80       500\n",
            "             SeaLake       0.95      0.98      0.96       600\n",
            "\n",
            "            accuracy                           0.88      5400\n",
            "           macro avg       0.87      0.87      0.87      5400\n",
            "        weighted avg       0.88      0.88      0.88      5400\n",
            "\n"
          ]
        }
      ],
      "source": [
        "report = classification_report(y_true, y_pred,target_names=classes)\n",
        "print(report)"
      ]
    }
  ],
  "metadata": {
    "kernelspec": {
      "display_name": "Python 3",
      "language": "python",
      "name": "python3"
    },
    "language_info": {
      "codemirror_mode": {
        "name": "ipython",
        "version": 3
      },
      "file_extension": ".py",
      "mimetype": "text/x-python",
      "name": "python",
      "nbconvert_exporter": "python",
      "pygments_lexer": "ipython3",
      "version": "3.7.12"
    },
    "papermill": {
      "default_parameters": {},
      "duration": 203.752128,
      "end_time": "2022-04-04T13:37:56.185577",
      "environment_variables": {},
      "exception": null,
      "input_path": "__notebook__.ipynb",
      "output_path": "__notebook__.ipynb",
      "parameters": {},
      "start_time": "2022-04-04T13:34:32.433449",
      "version": "2.3.3"
    },
    "colab": {
      "name": "cnn_21CS60R01_Abhishek_Topwal.ipynb",
      "provenance": [],
      "collapsed_sections": []
    }
  },
  "nbformat": 4,
  "nbformat_minor": 5
}